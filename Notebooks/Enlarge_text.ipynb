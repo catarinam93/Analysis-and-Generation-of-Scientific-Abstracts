{
 "cells": [
  {
   "cell_type": "markdown",
   "metadata": {
    "id": "i2ar9MfBQq-v"
   },
   "source": [
    "# **Increase the size of the abstract when considerated small**\n"
   ]
  },
  {
   "cell_type": "markdown",
   "metadata": {},
   "source": [
    "Advanced Topics in Machine Learning - Group P1_C\n",
    "\n",
    "Produced by:\n",
    "- Catarina Monteiro up202105279\n",
    "- Diogo Mendes up202108102\n",
    "- Gonçalo Brochado up202106090"
   ]
  },
  {
   "cell_type": "markdown",
   "metadata": {},
   "source": [
    "Our objective is to calculate the average length of an abstract and augment any abstracts that fall below this average with additional, relevant content. This approach ensures a more standardized abstract length across the dataset, allowing each abstract to fully communicate the research objectives and context. By enhancing shorter abstracts, we aim to improve the consistency and informativeness of the dataset, facilitating better model performance and more accurate downstream analysis."
   ]
  },
  {
   "cell_type": "markdown",
   "metadata": {
    "id": "WZM2mrCXQxci"
   },
   "source": [
    "## **Dependencies**"
   ]
  },
  {
   "cell_type": "code",
   "execution_count": null,
   "metadata": {
    "colab": {
     "base_uri": "https://localhost:8080/"
    },
    "id": "Hs-96CX-thkq",
    "outputId": "188c312f-0b76-4b8f-94cd-f0e3a6136aaf"
   },
   "outputs": [
    {
     "name": "stdout",
     "output_type": "stream",
     "text": [
      "Requirement already satisfied: datasets in /usr/local/lib/python3.10/dist-packages (3.1.0)\n",
      "Requirement already satisfied: filelock in /usr/local/lib/python3.10/dist-packages (from datasets) (3.16.1)\n",
      "Requirement already satisfied: numpy>=1.17 in /usr/local/lib/python3.10/dist-packages (from datasets) (1.26.4)\n",
      "Requirement already satisfied: pyarrow>=15.0.0 in /usr/local/lib/python3.10/dist-packages (from datasets) (17.0.0)\n",
      "Requirement already satisfied: dill<0.3.9,>=0.3.0 in /usr/local/lib/python3.10/dist-packages (from datasets) (0.3.8)\n",
      "Requirement already satisfied: pandas in /usr/local/lib/python3.10/dist-packages (from datasets) (2.2.2)\n",
      "Requirement already satisfied: requests>=2.32.2 in /usr/local/lib/python3.10/dist-packages (from datasets) (2.32.3)\n",
      "Requirement already satisfied: tqdm>=4.66.3 in /usr/local/lib/python3.10/dist-packages (from datasets) (4.66.6)\n",
      "Requirement already satisfied: xxhash in /usr/local/lib/python3.10/dist-packages (from datasets) (3.5.0)\n",
      "Requirement already satisfied: multiprocess<0.70.17 in /usr/local/lib/python3.10/dist-packages (from datasets) (0.70.16)\n",
      "Requirement already satisfied: fsspec<=2024.9.0,>=2023.1.0 in /usr/local/lib/python3.10/dist-packages (from fsspec[http]<=2024.9.0,>=2023.1.0->datasets) (2024.9.0)\n",
      "Requirement already satisfied: aiohttp in /usr/local/lib/python3.10/dist-packages (from datasets) (3.10.10)\n",
      "Requirement already satisfied: huggingface-hub>=0.23.0 in /usr/local/lib/python3.10/dist-packages (from datasets) (0.24.7)\n",
      "Requirement already satisfied: packaging in /usr/local/lib/python3.10/dist-packages (from datasets) (24.1)\n",
      "Requirement already satisfied: pyyaml>=5.1 in /usr/local/lib/python3.10/dist-packages (from datasets) (6.0.2)\n",
      "Requirement already satisfied: aiohappyeyeballs>=2.3.0 in /usr/local/lib/python3.10/dist-packages (from aiohttp->datasets) (2.4.3)\n",
      "Requirement already satisfied: aiosignal>=1.1.2 in /usr/local/lib/python3.10/dist-packages (from aiohttp->datasets) (1.3.1)\n",
      "Requirement already satisfied: attrs>=17.3.0 in /usr/local/lib/python3.10/dist-packages (from aiohttp->datasets) (24.2.0)\n",
      "Requirement already satisfied: frozenlist>=1.1.1 in /usr/local/lib/python3.10/dist-packages (from aiohttp->datasets) (1.5.0)\n",
      "Requirement already satisfied: multidict<7.0,>=4.5 in /usr/local/lib/python3.10/dist-packages (from aiohttp->datasets) (6.1.0)\n",
      "Requirement already satisfied: yarl<2.0,>=1.12.0 in /usr/local/lib/python3.10/dist-packages (from aiohttp->datasets) (1.17.0)\n",
      "Requirement already satisfied: async-timeout<5.0,>=4.0 in /usr/local/lib/python3.10/dist-packages (from aiohttp->datasets) (4.0.3)\n",
      "Requirement already satisfied: typing-extensions>=3.7.4.3 in /usr/local/lib/python3.10/dist-packages (from huggingface-hub>=0.23.0->datasets) (4.12.2)\n",
      "Requirement already satisfied: charset-normalizer<4,>=2 in /usr/local/lib/python3.10/dist-packages (from requests>=2.32.2->datasets) (3.4.0)\n",
      "Requirement already satisfied: idna<4,>=2.5 in /usr/local/lib/python3.10/dist-packages (from requests>=2.32.2->datasets) (2.10)\n",
      "Requirement already satisfied: urllib3<3,>=1.21.1 in /usr/local/lib/python3.10/dist-packages (from requests>=2.32.2->datasets) (2.2.3)\n",
      "Requirement already satisfied: certifi>=2017.4.17 in /usr/local/lib/python3.10/dist-packages (from requests>=2.32.2->datasets) (2024.8.30)\n",
      "Requirement already satisfied: python-dateutil>=2.8.2 in /usr/local/lib/python3.10/dist-packages (from pandas->datasets) (2.8.2)\n",
      "Requirement already satisfied: pytz>=2020.1 in /usr/local/lib/python3.10/dist-packages (from pandas->datasets) (2024.2)\n",
      "Requirement already satisfied: tzdata>=2022.7 in /usr/local/lib/python3.10/dist-packages (from pandas->datasets) (2024.2)\n",
      "Requirement already satisfied: six>=1.5 in /usr/local/lib/python3.10/dist-packages (from python-dateutil>=2.8.2->pandas->datasets) (1.16.0)\n",
      "Requirement already satisfied: propcache>=0.2.0 in /usr/local/lib/python3.10/dist-packages (from yarl<2.0,>=1.12.0->aiohttp->datasets) (0.2.0)\n",
      "Requirement already satisfied: evaluate in /usr/local/lib/python3.10/dist-packages (0.4.3)\n",
      "Requirement already satisfied: datasets>=2.0.0 in /usr/local/lib/python3.10/dist-packages (from evaluate) (3.1.0)\n",
      "Requirement already satisfied: numpy>=1.17 in /usr/local/lib/python3.10/dist-packages (from evaluate) (1.26.4)\n",
      "Requirement already satisfied: dill in /usr/local/lib/python3.10/dist-packages (from evaluate) (0.3.8)\n",
      "Requirement already satisfied: pandas in /usr/local/lib/python3.10/dist-packages (from evaluate) (2.2.2)\n",
      "Requirement already satisfied: requests>=2.19.0 in /usr/local/lib/python3.10/dist-packages (from evaluate) (2.32.3)\n",
      "Requirement already satisfied: tqdm>=4.62.1 in /usr/local/lib/python3.10/dist-packages (from evaluate) (4.66.6)\n",
      "Requirement already satisfied: xxhash in /usr/local/lib/python3.10/dist-packages (from evaluate) (3.5.0)\n",
      "Requirement already satisfied: multiprocess in /usr/local/lib/python3.10/dist-packages (from evaluate) (0.70.16)\n",
      "Requirement already satisfied: fsspec>=2021.05.0 in /usr/local/lib/python3.10/dist-packages (from fsspec[http]>=2021.05.0->evaluate) (2024.9.0)\n",
      "Requirement already satisfied: huggingface-hub>=0.7.0 in /usr/local/lib/python3.10/dist-packages (from evaluate) (0.24.7)\n",
      "Requirement already satisfied: packaging in /usr/local/lib/python3.10/dist-packages (from evaluate) (24.1)\n",
      "Requirement already satisfied: filelock in /usr/local/lib/python3.10/dist-packages (from datasets>=2.0.0->evaluate) (3.16.1)\n",
      "Requirement already satisfied: pyarrow>=15.0.0 in /usr/local/lib/python3.10/dist-packages (from datasets>=2.0.0->evaluate) (17.0.0)\n",
      "Requirement already satisfied: aiohttp in /usr/local/lib/python3.10/dist-packages (from datasets>=2.0.0->evaluate) (3.10.10)\n",
      "Requirement already satisfied: pyyaml>=5.1 in /usr/local/lib/python3.10/dist-packages (from datasets>=2.0.0->evaluate) (6.0.2)\n",
      "Requirement already satisfied: typing-extensions>=3.7.4.3 in /usr/local/lib/python3.10/dist-packages (from huggingface-hub>=0.7.0->evaluate) (4.12.2)\n",
      "Requirement already satisfied: charset-normalizer<4,>=2 in /usr/local/lib/python3.10/dist-packages (from requests>=2.19.0->evaluate) (3.4.0)\n",
      "Requirement already satisfied: idna<4,>=2.5 in /usr/local/lib/python3.10/dist-packages (from requests>=2.19.0->evaluate) (2.10)\n",
      "Requirement already satisfied: urllib3<3,>=1.21.1 in /usr/local/lib/python3.10/dist-packages (from requests>=2.19.0->evaluate) (2.2.3)\n",
      "Requirement already satisfied: certifi>=2017.4.17 in /usr/local/lib/python3.10/dist-packages (from requests>=2.19.0->evaluate) (2024.8.30)\n",
      "Requirement already satisfied: python-dateutil>=2.8.2 in /usr/local/lib/python3.10/dist-packages (from pandas->evaluate) (2.8.2)\n",
      "Requirement already satisfied: pytz>=2020.1 in /usr/local/lib/python3.10/dist-packages (from pandas->evaluate) (2024.2)\n",
      "Requirement already satisfied: tzdata>=2022.7 in /usr/local/lib/python3.10/dist-packages (from pandas->evaluate) (2024.2)\n",
      "Requirement already satisfied: aiohappyeyeballs>=2.3.0 in /usr/local/lib/python3.10/dist-packages (from aiohttp->datasets>=2.0.0->evaluate) (2.4.3)\n",
      "Requirement already satisfied: aiosignal>=1.1.2 in /usr/local/lib/python3.10/dist-packages (from aiohttp->datasets>=2.0.0->evaluate) (1.3.1)\n",
      "Requirement already satisfied: attrs>=17.3.0 in /usr/local/lib/python3.10/dist-packages (from aiohttp->datasets>=2.0.0->evaluate) (24.2.0)\n",
      "Requirement already satisfied: frozenlist>=1.1.1 in /usr/local/lib/python3.10/dist-packages (from aiohttp->datasets>=2.0.0->evaluate) (1.5.0)\n",
      "Requirement already satisfied: multidict<7.0,>=4.5 in /usr/local/lib/python3.10/dist-packages (from aiohttp->datasets>=2.0.0->evaluate) (6.1.0)\n",
      "Requirement already satisfied: yarl<2.0,>=1.12.0 in /usr/local/lib/python3.10/dist-packages (from aiohttp->datasets>=2.0.0->evaluate) (1.17.0)\n",
      "Requirement already satisfied: async-timeout<5.0,>=4.0 in /usr/local/lib/python3.10/dist-packages (from aiohttp->datasets>=2.0.0->evaluate) (4.0.3)\n",
      "Requirement already satisfied: six>=1.5 in /usr/local/lib/python3.10/dist-packages (from python-dateutil>=2.8.2->pandas->evaluate) (1.16.0)\n",
      "Requirement already satisfied: propcache>=0.2.0 in /usr/local/lib/python3.10/dist-packages (from yarl<2.0,>=1.12.0->aiohttp->datasets>=2.0.0->evaluate) (0.2.0)\n",
      "Requirement already satisfied: rouge_score in /usr/local/lib/python3.10/dist-packages (0.1.2)\n",
      "Requirement already satisfied: absl-py in /usr/local/lib/python3.10/dist-packages (from rouge_score) (1.4.0)\n",
      "Requirement already satisfied: nltk in /usr/local/lib/python3.10/dist-packages (from rouge_score) (3.8.1)\n",
      "Requirement already satisfied: numpy in /usr/local/lib/python3.10/dist-packages (from rouge_score) (1.26.4)\n",
      "Requirement already satisfied: six>=1.14.0 in /usr/local/lib/python3.10/dist-packages (from rouge_score) (1.16.0)\n",
      "Requirement already satisfied: click in /usr/local/lib/python3.10/dist-packages (from nltk->rouge_score) (8.1.7)\n",
      "Requirement already satisfied: joblib in /usr/local/lib/python3.10/dist-packages (from nltk->rouge_score) (1.4.2)\n",
      "Requirement already satisfied: regex>=2021.8.3 in /usr/local/lib/python3.10/dist-packages (from nltk->rouge_score) (2024.9.11)\n",
      "Requirement already satisfied: tqdm in /usr/local/lib/python3.10/dist-packages (from nltk->rouge_score) (4.66.6)\n",
      "Requirement already satisfied: deep-translator in /usr/local/lib/python3.10/dist-packages (1.11.4)\n",
      "Requirement already satisfied: beautifulsoup4<5.0.0,>=4.9.1 in /usr/local/lib/python3.10/dist-packages (from deep-translator) (4.12.3)\n",
      "Requirement already satisfied: requests<3.0.0,>=2.23.0 in /usr/local/lib/python3.10/dist-packages (from deep-translator) (2.32.3)\n",
      "Requirement already satisfied: soupsieve>1.2 in /usr/local/lib/python3.10/dist-packages (from beautifulsoup4<5.0.0,>=4.9.1->deep-translator) (2.6)\n",
      "Requirement already satisfied: charset-normalizer<4,>=2 in /usr/local/lib/python3.10/dist-packages (from requests<3.0.0,>=2.23.0->deep-translator) (3.4.0)\n",
      "Requirement already satisfied: idna<4,>=2.5 in /usr/local/lib/python3.10/dist-packages (from requests<3.0.0,>=2.23.0->deep-translator) (2.10)\n",
      "Requirement already satisfied: urllib3<3,>=1.21.1 in /usr/local/lib/python3.10/dist-packages (from requests<3.0.0,>=2.23.0->deep-translator) (2.2.3)\n",
      "Requirement already satisfied: certifi>=2017.4.17 in /usr/local/lib/python3.10/dist-packages (from requests<3.0.0,>=2.23.0->deep-translator) (2024.8.30)\n"
     ]
    }
   ],
   "source": [
    "!pip install datasets\n",
    "!pip install evaluate\n",
    "!pip install rouge_score"
   ]
  },
  {
   "cell_type": "markdown",
   "metadata": {},
   "source": [
    "## **Libraries**"
   ]
  },
  {
   "cell_type": "code",
   "execution_count": 46,
   "metadata": {
    "id": "FnooK6qpafsr"
   },
   "outputs": [],
   "source": [
    "import torch\n",
    "from transformers import AutoTokenizer, AutoModelForCausalLM\n",
    "from datasets import load_dataset\n",
    "import evaluate\n",
    "import pandas as pd\n",
    "from transformers import pipeline\n",
    "import matplotlib.pyplot as plt"
   ]
  },
  {
   "cell_type": "markdown",
   "metadata": {
    "id": "BqMBldIqajzT"
   },
   "source": [
    "## **Data**"
   ]
  },
  {
   "cell_type": "markdown",
   "metadata": {},
   "source": [
    "The data for the project was retrieved using the Hugging Face datasets library, specifically loading the Arxiv abstracts dataset. This dataset includes metadata from scientific papers, such as titles, abstracts, author names, and categories, and provides a comprehensive base for training and evaluating models for title generation, abstract generation, and category prediction."
   ]
  },
  {
   "cell_type": "code",
   "execution_count": 6,
   "metadata": {
    "colab": {
     "base_uri": "https://localhost:8080/",
     "height": 113,
     "referenced_widgets": [
      "ff950985c47945128c3be6f9afef93e6",
      "aaba452d0d714f6d81781922c5d9276b",
      "0dcd1ae7fe364453850af3cad289ff28",
      "46cefd0f195a443a86447d1634bb1093",
      "c7e8b9eb13f343d695d43472fae59888",
      "6b4b6ac5c5f44a8f893318e92e67d3a4",
      "d374fbfdd6164e5fa42580db81d981bf",
      "f6c8345a484e4733b4666259b3fb42c8",
      "582e610ee84048659014add242aa5bb6",
      "da0673b502ae4c80abfb15da9da07736",
      "f6594f3166d5444bb6d71c995145c192",
      "360476176f164b978c67bb45690fdbdf",
      "b77673a10f254d84bda727f1622a0268",
      "f6491a77cb414f15adf30eb2b0b3eae0",
      "acfee1d91aea4f51bad7f16e00c7865d",
      "8c08fdea14d9483db50117fc25e6b10c",
      "cb5ee204b28b459bbac05cfdbb661f01",
      "83d7818f33e044aeb9e9c7e281e80d90",
      "89781430eb8f4b34a0883fbaee6dbd61",
      "79123226615f4a028ab14cf8b2795171",
      "acde552d1ae64e7b968dbfb13ff4c84b",
      "7ac0633f20f94cfda985b6073c86a7ba",
      "0c0d6d8f1e7a42f29c94933336acb11a",
      "cde5cfd5fce54cbca649e3efcdfa148a",
      "4e0fea546b3647d1ab97cbb2f50a1347",
      "b9e836f2ecc94ac2a45b22e9a6b5d304",
      "b174b058b77e46eeb1d6dfd0ae9acf72",
      "447fd5654d114b1ca077e697695be087",
      "7be7066796b04cbdb795fc6baec8b15a",
      "81c2d0913a644b62a992d9259dc40833",
      "1be0ebe2da9045a0b48b78be10696fd1",
      "884edecca4634a69af73cdd04a9a28fe",
      "62472c8c971c44e9a139b79b1d7d36c8"
     ]
    },
    "id": "gJ2Tr2z3amPk",
    "outputId": "ff2ff80e-1e15-45d5-d697-b1a51372e31f"
   },
   "outputs": [
    {
     "data": {
      "application/vnd.jupyter.widget-view+json": {
       "model_id": "ff950985c47945128c3be6f9afef93e6",
       "version_major": 2,
       "version_minor": 0
      },
      "text/plain": [
       "README.md:   0%|          | 0.00/6.75k [00:00<?, ?B/s]"
      ]
     },
     "metadata": {},
     "output_type": "display_data"
    },
    {
     "data": {
      "application/vnd.jupyter.widget-view+json": {
       "model_id": "360476176f164b978c67bb45690fdbdf",
       "version_major": 2,
       "version_minor": 0
      },
      "text/plain": [
       "arxiv-abstracts.jsonl.gz:   0%|          | 0.00/940M [00:00<?, ?B/s]"
      ]
     },
     "metadata": {},
     "output_type": "display_data"
    },
    {
     "data": {
      "application/vnd.jupyter.widget-view+json": {
       "model_id": "0c0d6d8f1e7a42f29c94933336acb11a",
       "version_major": 2,
       "version_minor": 0
      },
      "text/plain": [
       "Generating train split:   0%|          | 0/1999486 [00:00<?, ? examples/s]"
      ]
     },
     "metadata": {},
     "output_type": "display_data"
    }
   ],
   "source": [
    "ds = load_dataset(\"gfissore/arxiv-abstracts-2021\")"
   ]
  },
  {
   "cell_type": "code",
   "execution_count": 7,
   "metadata": {
    "colab": {
     "base_uri": "https://localhost:8080/"
    },
    "id": "Y5FiE5yza1x8",
    "outputId": "92e25e33-1b91-45c1-9d9a-5b3a39414976"
   },
   "outputs": [
    {
     "data": {
      "text/plain": [
       "['id',\n",
       " 'submitter',\n",
       " 'authors',\n",
       " 'title',\n",
       " 'comments',\n",
       " 'journal-ref',\n",
       " 'doi',\n",
       " 'abstract',\n",
       " 'report-no',\n",
       " 'categories',\n",
       " 'versions']"
      ]
     },
     "execution_count": 7,
     "metadata": {},
     "output_type": "execute_result"
    }
   ],
   "source": [
    "ds['train'].column_names"
   ]
  },
  {
   "cell_type": "markdown",
   "metadata": {},
   "source": [
    "Calculation of the average length of abstracts in the dataset to establish a baseline for typical abstract size. This average length provides insight into the standard abstract size in the dataset, which will be used to identify shorter abstracts for augmentation, ensuring a more consistent abstract length across all entries."
   ]
  },
  {
   "cell_type": "code",
   "execution_count": null,
   "metadata": {
    "colab": {
     "base_uri": "https://localhost:8080/"
    },
    "id": "X0yjv9jvwqhG",
    "outputId": "a5bd1ea3-67bf-4037-e0ec-c8154df419dc"
   },
   "outputs": [
    {
     "data": {
      "text/plain": [
       "912.60869093357"
      ]
     },
     "execution_count": 41,
     "metadata": {},
     "output_type": "execute_result"
    }
   ],
   "source": [
    "n_char = [len(s) for s in ds['train']['abstract']]\n",
    "\n",
    "n_char_med = sum(n_char) / len(ds['train']['abstract'])\n",
    "\n",
    "n_char_med"
   ]
  },
  {
   "cell_type": "markdown",
   "metadata": {
    "id": "oTuE6J3mwscZ"
   },
   "source": [
    "This equals approximatly to 228 tokens"
   ]
  },
  {
   "cell_type": "markdown",
   "metadata": {},
   "source": [
    "In order to test the models, 100 abstracts, shorter than the average size, were selected."
   ]
  },
  {
   "cell_type": "code",
   "execution_count": null,
   "metadata": {
    "colab": {
     "base_uri": "https://localhost:8080/"
    },
    "id": "s6KeU64UfbaG",
    "outputId": "c02a545b-7b58-4783-b3d4-e9d0ef415f6f"
   },
   "outputs": [
    {
     "name": "stdout",
     "output_type": "stream",
     "text": [
      "1\n",
      "2\n",
      "3\n",
      "4\n",
      "9\n",
      "10\n",
      "11\n",
      "12\n",
      "13\n",
      "14\n",
      "15\n",
      "17\n",
      "18\n",
      "19\n",
      "20\n",
      "23\n",
      "24\n",
      "25\n",
      "26\n",
      "27\n",
      "28\n",
      "29\n",
      "30\n",
      "32\n",
      "33\n",
      "34\n",
      "37\n",
      "39\n",
      "41\n",
      "45\n",
      "47\n",
      "48\n",
      "50\n",
      "51\n",
      "53\n",
      "55\n",
      "56\n",
      "59\n",
      "61\n",
      "62\n",
      "67\n",
      "69\n",
      "70\n",
      "72\n",
      "73\n",
      "74\n",
      "75\n",
      "76\n",
      "77\n",
      "78\n",
      "80\n",
      "85\n",
      "86\n",
      "89\n",
      "90\n",
      "91\n",
      "92\n",
      "94\n",
      "95\n",
      "96\n",
      "97\n",
      "99\n",
      "100\n",
      "101\n",
      "102\n",
      "103\n",
      "104\n",
      "106\n",
      "107\n",
      "108\n",
      "109\n",
      "110\n",
      "111\n",
      "114\n",
      "115\n",
      "116\n",
      "117\n",
      "119\n",
      "120\n",
      "121\n",
      "123\n",
      "124\n",
      "128\n",
      "129\n",
      "130\n",
      "131\n",
      "132\n",
      "133\n",
      "134\n",
      "135\n",
      "136\n",
      "139\n",
      "140\n",
      "141\n",
      "142\n",
      "143\n",
      "144\n",
      "146\n",
      "148\n",
      "151\n"
     ]
    }
   ],
   "source": [
    "abstract = []\n",
    "i = 0\n",
    "\n",
    "while len(abstract) != 100:\n",
    "  if len(ds['train']['abstract'][i]) < 900:\n",
    "    abstract.append(ds['train']['abstract'][i])\n",
    "    print(i)\n",
    "  i += 1"
   ]
  },
  {
   "cell_type": "markdown",
   "metadata": {
    "id": "7A6jmHLseEL3"
   },
   "source": [
    "## **Test Models**"
   ]
  },
  {
   "cell_type": "markdown",
   "metadata": {},
   "source": [
    "This code assesses the quality of generated abstracts by calculating **ROUGE** and **BLEU** scores, which measure the similarity between the generated and original abstracts. Additionally, it computes **perplexity** to evaluate the fluency and coherence of the generated text. The `teste_model` function iterates through each abstract, generating extended content while accumulating these evaluation metrics. This comprehensive evaluation framework not only tries to highlight the effectiveness of the title generation model but also tries to ensures that the generated abstracts maintain a high level of relevance and readability."
   ]
  },
  {
   "cell_type": "code",
   "execution_count": null,
   "metadata": {
    "id": "vOlfmRjNiy42"
   },
   "outputs": [],
   "source": [
    "def rouge_scores(generated_abs, abstracts): #ROUGE\n",
    "  rouge = evaluate.load('rouge')\n",
    "  results = rouge.compute(predictions=generated_abs, references=abstracts)\n",
    "  return results\n",
    "\n",
    "def blue_score(generated_abs,abstracts): #BLEU\n",
    "  bleu = evaluate.load(\"bleu\")\n",
    "  results = bleu.compute(predictions=generated_abs, references=[[abs] for abs in abstracts])\n",
    "  return results\n",
    "\n",
    "def calculate_perplexity(model, tokenizer, text):\n",
    "    # Tokenize text\n",
    "    inputs = tokenizer(text, return_tensors=\"pt\")\n",
    "    input_ids = inputs[\"input_ids\"].to(model.device)\n",
    "\n",
    "    # Get loss\n",
    "    with torch.no_grad():\n",
    "        outputs = model(input_ids, labels=input_ids)\n",
    "        loss = outputs.loss  # average cross entropy\n",
    "\n",
    "    # Preplexity calculation through loss\n",
    "    perplexity = torch.exp(loss)\n",
    "\n",
    "    return perplexity.item()\n",
    "\n",
    "\n",
    "def teste_model(abstracts, tokenizer, model): #Test Model\n",
    "  generated_abs = []\n",
    "  perplexity = 0\n",
    "\n",
    "  for abs in abstracts:\n",
    "    messages = [\n",
    "    {\"role\": \"system\", \"content\": \"Complete the given abstract. Answer with scientific knowledge and write with scientific paper style. Complete until reach the near 900 caracteres\"},\n",
    "    {\"role\": \"user\", \"content\": f\"Abstract: {abs}\"},\n",
    "    ]\n",
    "    outputs = pipe(\n",
    "        messages,\n",
    "        max_new_tokens = 300,\n",
    "    )\n",
    "    print(outputs[0][\"generated_text\"][-1]['content'])\n",
    "    generated_abs.append(outputs[0][\"generated_text\"][-1]['content'])\n",
    "    perplexity += calculate_perplexity(model, tokenizer, outputs[0][\"generated_text\"][-1]['content'])\n",
    "\n",
    "  rouge = rouge_scores(generated_abs, abstracts)\n",
    "\n",
    "\n",
    "  return rouge, perplexity/50, generated_abs"
   ]
  },
  {
   "cell_type": "markdown",
   "metadata": {
    "id": "WBkNShqjd6Bw"
   },
   "source": [
    "For this task, we will utilize the LLama3.2 1B Instruct model, a decoder-only architecture renowned for its robust performance across a wide range of natural language processing tasks. This model strikes an optimal balance between efficiency and capability, making it a better choice for our needs without being excessively large. "
   ]
  },
  {
   "cell_type": "markdown",
   "metadata": {
    "id": "Yq1jzakWVxuw"
   },
   "source": [
    "### Llama3.2 1B Instruct"
   ]
  },
  {
   "cell_type": "code",
   "execution_count": 47,
   "metadata": {
    "colab": {
     "base_uri": "https://localhost:8080/",
     "height": 113,
     "referenced_widgets": [
      "6cb601cf5b4d40d399bf485d4cccb986",
      "8a0b073afc534ffe86ecaa1b4d7d6611",
      "94b302920b5a4c299eadc26ccece941c",
      "43bdc52d062f41f1bbe1819c4023e067",
      "1bc8447007d24015812aeab4300aabd2",
      "111edf188c43426d938667458dcfec2a",
      "dc97e6c83e8e4394b9ddcebe90459072",
      "62b3c5936d8142ea932b272bbd7ec3c8",
      "1e4552c980604108a6f6b6c27c7cca19",
      "ac5233d08c604d5cbfcbf8842aa07bed",
      "abcee38e269a48f0bfb1ed6ecb90d78d",
      "04e21b539f444f319c5adb95f2bd3137",
      "1b9a843a3c7641c88c62b171c51cdc17",
      "797a8de579074339afffdf967193813c",
      "fcc360920c024efbba0f13d24b96e6bb",
      "4a55554b5b5441b99ee0075b9072c1e1",
      "1a10f5053c56423c80804db09a5b80b7",
      "5c230378d90e4d3ea8cabf5d5063768d",
      "00ef72487626462a91647acffbe1bc43",
      "594490f4db2a4b209c3a504ae4f4971d",
      "b68ae5c7542548a68b671e0bfd3a96f7",
      "60faebd69b424e1c8c3b5e57d7b316d5",
      "625921b078f141b688e17e983df6956e",
      "1f3e9fc33155482bb79419047009b0ed",
      "6b52ce420b94476dbe635d1625e7c36e",
      "8cf3a930bd40469f805939e20b6102ef",
      "dec8c3f02a1f40c49ec4a027aac68c02",
      "7dfac269468f4d88b954c3050fa0749a",
      "14c12d2d95b14f54ab0c4cc8ef0b223c",
      "6207dd74d762462b85eacd54a8e00cb3",
      "70a270b3967e4f0a887fb15f43be09fc",
      "09e905783f2241778cfccc27f8afbcac",
      "75daff9ae49c4757b33fd49ebaca432e"
     ]
    },
    "id": "VkdjxYAAjXAd",
    "outputId": "b2bbf892-c975-48f5-edf2-4911f38fa679"
   },
   "outputs": [
    {
     "data": {
      "application/vnd.jupyter.widget-view+json": {
       "model_id": "6cb601cf5b4d40d399bf485d4cccb986",
       "version_major": 2,
       "version_minor": 0
      },
      "text/plain": [
       "config.json:   0%|          | 0.00/877 [00:00<?, ?B/s]"
      ]
     },
     "metadata": {},
     "output_type": "display_data"
    },
    {
     "data": {
      "application/vnd.jupyter.widget-view+json": {
       "model_id": "04e21b539f444f319c5adb95f2bd3137",
       "version_major": 2,
       "version_minor": 0
      },
      "text/plain": [
       "model.safetensors:   0%|          | 0.00/2.47G [00:00<?, ?B/s]"
      ]
     },
     "metadata": {},
     "output_type": "display_data"
    },
    {
     "data": {
      "application/vnd.jupyter.widget-view+json": {
       "model_id": "625921b078f141b688e17e983df6956e",
       "version_major": 2,
       "version_minor": 0
      },
      "text/plain": [
       "generation_config.json:   0%|          | 0.00/189 [00:00<?, ?B/s]"
      ]
     },
     "metadata": {},
     "output_type": "display_data"
    }
   ],
   "source": [
    "model_id = \"meta-llama/Llama-3.2-1B-Instruct\"\n",
    "tokenizer = AutoTokenizer.from_pretrained(model_id)\n",
    "model = AutoModelForCausalLM.from_pretrained(model_id, torch_dtype=torch.bfloat16, device_map=\"auto\")\n",
    "\n",
    "pipe = pipeline(\n",
    "    \"text-generation\",\n",
    "    model=model_id,\n",
    "    torch_dtype=torch.bfloat16,\n",
    "    device=0,\n",
    ")"
   ]
  },
  {
   "cell_type": "code",
   "execution_count": null,
   "metadata": {
    "colab": {
     "base_uri": "https://localhost:8080/"
    },
    "id": "vPB00MSGiNza",
    "outputId": "5a171a26-14cc-4837-cb42-32db5aa0baa2"
   },
   "outputs": [
    {
     "name": "stderr",
     "output_type": "stream",
     "text": [
      "Setting `pad_token_id` to `eos_token_id`:128001 for open-end generation.\n"
     ]
    },
    {
     "name": "stdout",
     "output_type": "stream",
     "text": [
      "**Title:** Fully Differential Calculation of Massive Photon Pair Production in Quantum Chromodynamics at Hadron Colliders\n",
      "\n",
      "**Abstract:**\n",
      "\n",
      "We present a fully differential calculation for the production of massive photon pairs at hadron colliders, incorporating next-to-leading order perturbative contributions from quark-antiquark, gluon-(anti)quark, and gluon-gluon subprocesses, as well as all-orders resummation of initial-state gluon radiation. We specify the region of phase space most reliable for this calculation and demonstrate good agreement with data from the Fermilab Tevatron. We make predictions for more detailed tests with CDF and DO data, and show that distributions of diphoton pairs produced at the energy of the Large Hadron Collider (LHC) can be enhanced with judicious selection of events.\n",
      "\n",
      "**Introduction:**\n",
      "\n",
      "Quantum chromodynamics (QCD) is the theory of the strong nuclear force, describing the interactions between quarks and gluons. Photons are massive particles that can be produced in high-energy collisions at hadron colliders, such as the LHC. The production of massive photon pairs is an important process in QCD, as it can be used to test the theory and study the properties of hadrons.\n",
      "\n",
      "**Methods:**\n",
      "\n",
      "We performed a fully differential calculation of massive photon pair production using a Monte Carlo event generator. We included next-to-leading order perturbative contributions from quark-antiquark, gluon-(anti)qu\n"
     ]
    },
    {
     "name": "stderr",
     "output_type": "stream",
     "text": [
      "Setting `pad_token_id` to `eos_token_id`:128001 for open-end generation.\n"
     ]
    },
    {
     "name": "stdout",
     "output_type": "stream",
     "text": [
      "Here is the completed abstract in a scientific paper style, reaching approximately 900 characters:\n",
      "\n",
      "Title: Characterization of $(k,\\ell)$-sparse graphs through the $(k,\\ell)$-pebble game with colors\n",
      "\n",
      "Abstract:\n",
      "\n",
      "We introduce the $(k,\\ell)$-pebble game with colors, a new algorithmic framework for sparse graph characterization. Our algorithm, combined with the $(k,\\ell)$-pebble game with colors, provides a characterization of the family of $(k,\\ell)$-sparse graphs. Furthermore, we utilize this framework to obtain algorithmic solutions to a family of problems concerning tree decompositions of graphs, including a proof of the Tutte-Nash-Williams characterization of arboricity. Our work also highlights connections between the $(k,\\ell)$-pebble game algorithms and previous sparse graph algorithms by Gabow, Gabow and Westermann and Hendrickson.\n",
      "\n",
      "Specifically, we demonstrate that the $(k,\\ell)$-pebble game with colors is a generalization and strengthening of the previous results of Lee and Streinu, and provides a new proof of the Tutte-Nash-Williams characterization of arboricity. Additionally, we present a new decomposition that certifies sparsity based on the $(k,\\ell)$-pebble game with colors. Our work contributes to the field of sparse graph theory, with implications for rigidity theory, graph algorithms, and computational complexity.\n"
     ]
    },
    {
     "name": "stderr",
     "output_type": "stream",
     "text": [
      "Setting `pad_token_id` to `eos_token_id`:128001 for open-end generation.\n"
     ]
    },
    {
     "name": "stdout",
     "output_type": "stream",
     "text": [
      "**Journal of Planetary Dynamics**\n",
      "\n",
      "**Volume 35, Issue 2, 2023**\n",
      "\n",
      "**The Dark Matter Field Fluid Model of the Earth-Moon System: A Reevaluation of Tidal Friction and Angular Acceleration**\n",
      "\n",
      "**Abstract**\n",
      "\n",
      "The dark matter field fluid model, proposed by the Meeting of Division of Particle and Field 2004, American Physical Society, provides a framework for understanding the evolution of the Earth-Moon system. This model predicts that the Moon's distance from Earth is decreasing due to tidal friction, but our current data suggest that this is not the primary cause of the system's evolution. We derive the average dark matter field fluid constant from Earth-Moon system data and find that it is consistent with the predicted values for the Moon's rotation and angular acceleration. Our results imply that the dark matter field fluid model may not be the most accurate representation of the Earth-Moon system's evolution.\n",
      "\n",
      "**Introduction**\n",
      "\n",
      "The Earth-Moon system is a complex and dynamic celestial body, with a history of interactions that have shaped its evolution. The tidal friction between the two bodies has been a long-standing concern, as it can cause the Moon's orbit to decay over time. However, recent observations suggest that tidal friction may not be the primary cause of the system's evolution.\n",
      "\n",
      "**The Dark Matter Field Fluid Model**\n",
      "\n",
      "The dark matter field fluid model, proposed by the Meeting of Division of Particle and Field 2004, American Physical Society, provides a framework for understanding the evolution of the\n"
     ]
    },
    {
     "name": "stderr",
     "output_type": "stream",
     "text": [
      "Setting `pad_token_id` to `eos_token_id`:128001 for open-end generation.\n"
     ]
    },
    {
     "name": "stdout",
     "output_type": "stream",
     "text": [
      "**Title:** Determinant of Stirling Cycle Numbers and Unlabeled Acyclic Single-Source Automata\n",
      "\n",
      "**Abstract:**\n",
      "\n",
      "We introduce a bijection between unlabeled acyclic single-source automata (ASAs) and marked lattice paths, and demonstrate that the determinant of the Stirling cycle number matrix counts the number of such automata. The proof relies on a sign-reversing involution to evaluate the determinant.\n",
      "\n",
      "**Introduction:**\n",
      "\n",
      "Acyclic single-source automata (ASAs) are a fundamental concept in automata theory, representing systems with a single input and a single output. The Stirling cycle number matrix is a critical matrix in the study of ASAs, as it encodes information about the automaton's structure. However, evaluating the determinant of this matrix can be computationally intensive.\n",
      "\n",
      "**Bijection to marked lattice paths:**\n",
      "\n",
      "We establish a bijection between unlabeled ASAs and marked lattice paths, which we denote as $L$. Each labeled state in the lattice corresponds to a labeled source in the ASA, and the path represents the automaton's behavior. This bijection is established using a combination of the following steps:\n",
      "\n",
      "1.  **Labeling**: Each labeled state in the lattice is labeled with a unique integer, representing the number of incoming edges from the state.\n",
      "2.  **Path construction**: The labeled states are connected by labeled edges, forming a path from the source to the sink.\n",
      "\n",
      "**Sign-reversing involution:**\n",
      "\n",
      "We define a\n"
     ]
    },
    {
     "name": "stderr",
     "output_type": "stream",
     "text": [
      "Setting `pad_token_id` to `eos_token_id`:128001 for open-end generation.\n"
     ]
    },
    {
     "name": "stdout",
     "output_type": "stream",
     "text": [
      "Abstract:\n",
      "\n",
      "\\textit{Computing the $\\Lambda_{\\alpha}$ Norm using the Dyadic Grid}\n",
      "\n",
      "The $\\Lambda_{\\alpha}$ norm, $\\alpha\\ge0$, is a measure of the size of a set in the Hardy spaces $H^p(R^N)$.\n",
      "In this paper, we present a new approach to computing the $\\Lambda_{\\alpha}$ norm using the dyadic grid, a powerful tool in the theory of Hardy spaces.\n",
      "The dyadic grid is a discrete grid that consists of points of the form $\\left(\\frac{2^n}{2^m}, \\frac{2^m}{2^n}\\right)$, where $n,m\\ge0$.\n",
      "We describe the Hardy spaces $H^p(R^N)$ in terms of dyadic and special atoms, which are essential components in the analysis of these spaces.\n",
      "Using the properties of dyadic and special atoms, we derive a formula for computing the $\\Lambda_{\\alpha}$ norm.\n",
      "We show that the dyadic grid provides an efficient and accurate method for computing the $\\Lambda_{\\alpha}$ norm, with a computational complexity of $\\mathcal{O}(N^{\\alpha/2})$.\n",
      "Our result is a consequence of the theory of Hardy spaces and has implications for the analysis of function spaces and their properties.\n",
      "\n",
      "\\textit{Keywords:} Hardy spaces, dyadic grid, special atoms, $\\Lambda_{\\alpha}$ norm, computation of norms.\n",
      "\n",
      "\\text\n"
     ]
    },
    {
     "name": "stderr",
     "output_type": "stream",
     "text": [
      "Setting `pad_token_id` to `eos_token_id`:128001 for open-end generation.\n"
     ]
    },
    {
     "name": "stdout",
     "output_type": "stream",
     "text": [
      "**Title:** Bosonic Characterization of Cooper Pairs in a Two-Particle Fermi Gas with Tunable Interaction Strengths\n",
      "\n",
      "**Abstract:**\n",
      "\n",
      "We investigate the two-particle wave function of paired atoms in a Fermi gas with tunable interaction strengths controlled by Feshbach resonance. The Cooper pair wave function is examined for its bosonic characters, quantified by the correction of Bose enhancement factor associated with the creation and annihilation composite particle operators. We present two definitions of the Cooper pair wave function, one reflecting off-diagonal long range order (ODLRO) and another corresponding to a pair projection of a BCS state. Our results show that paired atoms described by ODLRO are more bosonic than the pair projected definition, particularly at low interaction strengths. We also find that at $(k_F a)^{-1} \\ge 1$, both definitions yield similar results, with more than 90% of atoms occupying the corresponding molecular condensates.\n",
      "\n",
      "**Introduction:**\n",
      "\n",
      "The Fermi gas is a paradigmatic model for studying the behavior of fermions in strong interactions. Cooper pairs, formed by the pairing of electrons, are a fundamental concept in the study of superconductivity and superfluidity. The two-particle wave function of paired atoms in a Fermi gas with tunable interaction strengths is a crucial aspect of understanding their behavior.\n",
      "\n",
      "**Methods:**\n",
      "\n",
      "We employ the Hartree-Fock approximation and the Bogoliubov transformation to describe the two-particle wave function\n"
     ]
    },
    {
     "name": "stderr",
     "output_type": "stream",
     "text": [
      "Setting `pad_token_id` to `eos_token_id`:128001 for open-end generation.\n"
     ]
    },
    {
     "name": "stdout",
     "output_type": "stream",
     "text": [
      "Here is the completed abstract:\n",
      "\n",
      "**Title:** Non-standard Quantum Representation of Canonical Commutation Relations in Quantum Mechanics and Loop Quantum Cosmology\n",
      "\n",
      "**Abstract:**\n",
      "\n",
      "A novel quantum representation of the canonical commutation relations of quantum mechanics systems, known as the polymer representation, has garnered attention in recent years due to its potential relation with Planck-scale physics. In particular, this approach has been explored in a symmetric sector of loop quantum gravity known as loop quantum cosmology. This paper investigates the relation between the ordinary Schrödinger theory and the polymer description.\n",
      "\n",
      "**Part 1: Derivation of the Polymer Quantum Mechanics**\n",
      "\n",
      "We derive the polymer quantum mechanics starting from the ordinary Schrödinger theory and demonstrate that the polymer description arises as an appropriate limit. This involves expressing the polymer representation in terms of the ordinary Schrödinger theory, identifying the key mathematical structures that emerge, and analyzing their implications.\n",
      "\n",
      "**Part 2: Continuum Limit of the Polymer Quantum Mechanics**\n",
      "\n",
      "We consider the continuum limit of the polymer quantum mechanics, namely, the reverse process of starting from the discrete theory and attempting to recover the ordinary Schrödinger quantum mechanics. We examine several examples of interest, including the harmonic oscillator, the free particle, and a simple cosmological model, to illustrate the potential of the polymer representation in reconciling quantum mechanics with Planck-scale physics.\n",
      "\n",
      "**Keywords:** quantum mechanics, polymer representation, canonical commutation relations, loop quantum gravity, Planck-scale physics, continuum\n"
     ]
    },
    {
     "name": "stderr",
     "output_type": "stream",
     "text": [
      "Setting `pad_token_id` to `eos_token_id`:128001 for open-end generation.\n"
     ]
    },
    {
     "name": "stdout",
     "output_type": "stream",
     "text": [
      "**Title:** Development of a General Formulation for Dynamic Loading Applications: Numerical Methods and Coupled Solution Methods for Composite Deformation Paths\n",
      "\n",
      "**Abstract:**\n",
      "\n",
      "A novel formulation was developed to represent material models for dynamic loading applications, enabling the calculation of response to shock and ramp compression, and ramp decompression. This study presents a flexible and robust numerical method, coupled with coupled solution methods, to solve for composite deformation paths in materials under various loading conditions. The basic ramp and shock solution methods were integrated to investigate shock-induced impacts and shock interactions with a planar interface between different materials. The results demonstrate the ability to capture the physics of material dynamics experiments, without the need for spatially-resolving simulations. This work provides a foundation for further research on the development of advanced material models for dynamic loading applications.\n",
      "\n",
      "**Introduction:**\n",
      "\n",
      "Dynamic loading of materials is a critical aspect of various engineering applications, including aerospace, automotive, and energy sectors. Accurate modeling of these processes is essential for predicting material behavior, optimizing design, and reducing the risk of catastrophic failures. In this study, a general formulation was developed to represent material models for dynamic loading applications, enabling the calculation of response to shock and ramp compression, and ramp decompression.\n",
      "\n",
      "**Numerical Methods:**\n",
      "\n",
      "A novel numerical method was devised to calculate response to shock and ramp compression, and ramp decompression. This method is based on the solution of the Navier-Stokes equations and the Euler equations, which describe the behavior of fluids and solids, respectively\n"
     ]
    },
    {
     "name": "stderr",
     "output_type": "stream",
     "text": [
      "Setting `pad_token_id` to `eos_token_id`:128001 for open-end generation.\n"
     ]
    },
    {
     "name": "stdout",
     "output_type": "stream",
     "text": [
      "**Journal of Astrophysics and Space Research**\n",
      "\n",
      "**Volume 123, Issue 3, 2023**\n",
      "\n",
      "**Combined IRAC and MIPS Observations of the Serpens Star-Forming Region: A Set of Bona Fide Young Stellar Objects**\n",
      "\n",
      "**Abstract**\n",
      "\n",
      "We present a combined analysis of the IRAC (Infrared Array Camera) and MIPS (Multi-Mirror Instrument) observations of the Serpens star-forming region. A set of criteria is proposed for isolating bona fide young stellar objects (YSOs) from background contamination. We identify 235 YSOs in the 0.85 deg^2 field covered by both IRAC and MIPS, with an additional 51 lower-confidence YSOs identified from MIPS data combined with 2MASS photometry. Our results show that the luminosity function of YSOs in Serpens extends down to at least a few x.001 Lsun, with a lower limit set by the lack of YSOs at very low luminosities. A spatial clustering analysis reveals that nominally less-evolved YSOs are more highly clustered than later stages, and the background extra-galactic population can be fit by the same two-point correlation function as seen in other studies.\n",
      "\n",
      "**Introduction**\n",
      "\n",
      "The Serpens star-forming region is a well-studied region of the Milky Way, with numerous young stellar objects (YSOs) and a complex interplay between star formation and the surrounding interstellar medium\n"
     ]
    },
    {
     "name": "stderr",
     "output_type": "stream",
     "text": [
      "Setting `pad_token_id` to `eos_token_id`:128001 for open-end generation.\n"
     ]
    },
    {
     "name": "stdout",
     "output_type": "stream",
     "text": [
      "Title: Characterization of Bipartite Graphs and Partial Cubes of Arbitrary Dimension using Semicubes, Djoković's and Winkler's Relations\n",
      "\n",
      "Abstract:\n",
      "\n",
      "Partial cubes are isometric subgraphs of hypercubes, and structures on a graph defined by semicubes and Djoković's and Winkler's relations play a crucial role in the theory of partial cubes. This paper employs these structures to characterize bipartite graphs and partial cubes of arbitrary dimension. New characterizations are established, and new proofs of some known results are provided.\n",
      "\n",
      "The operations of Cartesian product and pasting, expansion and contraction processes are utilized in the paper to construct new partial cubes from old ones. Specifically, the isometric and lattice dimensions of finite partial cubes obtained through these operations are calculated.\n",
      "\n",
      "Key contributions of this paper include:\n",
      "\n",
      "1. Establishing new characterizations of bipartite graphs and partial cubes of arbitrary dimension using semicubes, Djoković's and Winkler's relations.\n",
      "2. Utilizing the operations of Cartesian product and pasting, expansion and contraction processes to construct new partial cubes from old ones.\n",
      "3. Calculating the isometric and lattice dimensions of finite partial cubes obtained through these operations.\n",
      "\n",
      "By employing these techniques, this paper provides new insights into the theory of partial cubes and characterizes bipartite graphs and partial cubes of arbitrary dimension. The results have implications for the study of graph theory, partial cubes, and their applications in various fields.\n"
     ]
    },
    {
     "name": "stderr",
     "output_type": "stream",
     "text": [
      "Setting `pad_token_id` to `eos_token_id`:128001 for open-end generation.\n"
     ]
    },
    {
     "name": "stdout",
     "output_type": "stream",
     "text": [
      "Here's the completed abstract in a scientific paper style, until reaching the near 900 characters:\n",
      "\n",
      "Abstract:\n",
      "\n",
      "We present a novel algorithm for computing Hecke eigensystems of Hilbert-Siegel cusp forms over real quadratic fields of narrow class number one. Specifically, we investigate the computation of Hecke eigensystems for Hilbert-Siegel cusp forms over the quadratic field Q(√5). Our approach involves the use of a novel lifting algorithm, which enables us to identify Hilbert-Siegel eigenforms that are possible lifts from Hilbert eigenforms. We provide illustrative examples using the quadratic field Q(√5), demonstrating the effectiveness of our algorithm. Our results have implications for the study of cusp forms and their associated Hecke eigensystems, and may be applicable to other quadratic fields with narrow class number one.\n"
     ]
    },
    {
     "name": "stderr",
     "output_type": "stream",
     "text": [
      "Setting `pad_token_id` to `eos_token_id`:128001 for open-end generation.\n"
     ]
    },
    {
     "name": "stdout",
     "output_type": "stream",
     "text": [
      "Abstract:\n",
      "\n",
      "We investigate the distribution properties of traces of singular moduli and Hurwitz class number for modular forms of half-integral weight for primes p ≥ 5. Our main theorem extends the result of Bruinier and Ono, who classified cusp forms f(z) = ∑_{n=0}^∞ a_f(n)q^n in S_{λ+1/2}(\\Gamma_0(N),χ) ∩ ℤ[[q]] that do not satisfy a certain distribution property for modulo odd primes p.\n",
      "\n",
      "Using Rankin-Cohen Bracket, we establish a distribution property for the trace of a singular modulus. We also derive distribution properties for the Hurwitz class number for modulo primes p ≥ 5. Furthermore, we study an analogue of Newman's conjecture for overpartitions.\n",
      "\n",
      "Key Results:\n",
      "\n",
      "1. Distribution property for the trace of a singular modulus: We show that the trace of a singular modulus is invariant under the action of the modular group.\n",
      "2. Distribution property for the Hurwitz class number: We derive the distribution property for the Hurwitz class number for modulo primes p ≥ 5.\n",
      "3. Analogue of Newman's conjecture for overpartitions: We study an analogue of Newman's conjecture for overpartitions.\n",
      "\n",
      "Main Theorem:\n",
      "\n",
      "Let f(z) = ∑_{n=0}^∞ a_f(n)q^n ∈ S_{λ+1/2}(\\Gamma_0(N\n"
     ]
    },
    {
     "name": "stderr",
     "output_type": "stream",
     "text": [
      "Setting `pad_token_id` to `eos_token_id`:128001 for open-end generation.\n"
     ]
    },
    {
     "name": "stdout",
     "output_type": "stream",
     "text": [
      "The given abstract outlines a research project focused on extending the work of Serre to modular forms of specific types on the special linear group $SL_2(\\mathbb{Z})$ and their half-integral weight counterparts on $\\Gamma_{0}(4N)$ for $N = 1, 2, 4$. The research employs linear relations among Fourier coefficients of modular forms of half-integral weight to establish congruences in various areas, including:\n",
      "\n",
      "1. **Borcherds Exponents**: The authors aim to derive congruences for the Borcherds exponents, which are fundamental in the study of modular forms and their properties.\n",
      "\n",
      "2. **Quotient of Eisentein Series**: Congruences of the quotient of Eisentein series are also a focus of the research, reflecting the importance of these series in the study of modular forms.\n",
      "\n",
      "3. **Values of L-Functions**: The study of congruences of the values of $L$-functions at a specific point is an active area of research, and the authors seek to apply their findings to this aspect as well.\n",
      "\n",
      "4. **Siegel Modular Forms on Maass Space**: The research extends to Siegel modular forms on Maass Space, utilizing Ikeda lifting to obtain the Fourier coefficients of these forms.\n",
      "\n",
      "The work is grounded in mathematical analysis, specifically in the areas of modular forms, $L$-functions, and Eisenstein series. The extension of Serre's result to half-int\n"
     ]
    },
    {
     "name": "stderr",
     "output_type": "stream",
     "text": [
      "Setting `pad_token_id` to `eos_token_id`:128001 for open-end generation.\n"
     ]
    },
    {
     "name": "stdout",
     "output_type": "stream",
     "text": [
      "Here is the completed abstract in scientific paper style, until reaching the near 900 characters:\n",
      "\n",
      "Title: Topological and Differential Analogs of Chen's Iterated Integrals in String Topology\n",
      "\n",
      "Abstract:\n",
      "\n",
      "In the realm of string topology, the Chen's iterated integrals are a powerful tool for constructing differential forms on the string worldsheet. This article extends the notion of Chen's iterated integrals to the context of string topology, leveraging the cyclic bar complex to provide a rigorous framework for analyzing these forms. By applying Chen's iterated integrals to the cyclic bar complex, we derive a new set of differential forms that capture the topological properties of string topology. These forms are shown to be invariant under diffeomorphisms of the string worldsheet, thereby establishing a deep connection between the topological and differential aspects of string topology. The resulting differential forms provide a novel tool for understanding the topology of string theory, with implications for our understanding of the string landscape.\n"
     ]
    },
    {
     "name": "stderr",
     "output_type": "stream",
     "text": [
      "Setting `pad_token_id` to `eos_token_id`:128001 for open-end generation.\n"
     ]
    },
    {
     "name": "stdout",
     "output_type": "stream",
     "text": [
      "Title: Evaluation of Pure Spinor Superspace for One-Loop and Two-Loop Massless Four-Point Amplitudes in Ten-Dimensional Superstring\n",
      "\n",
      "Abstract:\n",
      "\n",
      "The ten-dimensional superstring, a theory that combines general relativity and supersymmetry, yields manifestly supersymmetric loop amplitudes. In this paper, we investigate methods to evaluate these integrals in pure spinor superspace, a fundamental framework for supersymmetric quantum field theory. We then apply these evaluations to calculate the kinematic factors of the one-loop and two-loop massless four-point amplitudes involving two and four Ramond states.\n",
      "\n",
      "Introduction:\n",
      "\n",
      "In supersymmetric theories, the presence of supersymmetry breaking terms leads to the emergence of supersymmetric loop amplitudes. The pure spinor formulation of the ten-dimensional superstring, which describes the superstring theory, provides a powerful tool for evaluating these integrals. The pure spinor superspace, a mathematical framework that combines spinor fields and supersymmetry, allows for the formulation of supersymmetric quantum field theories.\n",
      "\n",
      "Methods:\n",
      "\n",
      "We employ the method of differential superspace, which involves transforming the pure spinor superspace into a more familiar form, the classical superspace. This transformation enables the evaluation of the integrals in question. We then apply this method to calculate the one-loop and two-loop massless four-point amplitudes involving two and four Ramond states.\n",
      "\n",
      "Results:\n",
      "\n",
      "We evaluate the one-loop and two-loop massless four-point amplitudes\n"
     ]
    },
    {
     "name": "stderr",
     "output_type": "stream",
     "text": [
      "Setting `pad_token_id` to `eos_token_id`:128001 for open-end generation.\n"
     ]
    },
    {
     "name": "stdout",
     "output_type": "stream",
     "text": [
      "Here is the completed abstract:\n",
      "\n",
      "Title: Lifetimes of Doubly Charmed Baryons: A Comparative Study\n",
      "\n",
      "Abstract:\n",
      "\n",
      "We investigate the lifetimes of the doubly charmed baryons $\\Xi_{cc}^{+}$, $\\Xi_{cc}^{++}$, and $\\Omega_{cc}^{+}$ by calculating non-spectator contributions at the quark level, where Cabibbo-suppressed diagrams are included. We evaluate hadronic matrix elements in the simple non-relativistic harmonic oscillator model, which provides a framework for understanding the strong interaction. Our results are consistent with those obtained by other authors using the diquark model. However, the theoretical predictions on the lifetimes are significantly larger than the upper limit set by the recent SELEX measurement. This discrepancy highlights the need for further investigation, as the discrepancy may be resolved by future experiments.\n"
     ]
    },
    {
     "name": "stderr",
     "output_type": "stream",
     "text": [
      "Setting `pad_token_id` to `eos_token_id`:128001 for open-end generation.\n"
     ]
    },
    {
     "name": "stdout",
     "output_type": "stream",
     "text": [
      "**Journal of Astrophysics and Space Research**\n",
      "\n",
      "**Volume 23, Issue 3, 2020**\n",
      "\n",
      "**Spectroscopic Observations of Intermediate Polar EX Hya in Quiescence**\n",
      "\n",
      "Abstract:\n",
      "\n",
      "We present spectroscopic observations of the Intermediate Polar (IP) EX Hya in quiescence during 1991 and 2001. Our results show spin-modulated radial velocities consistent with an outer disc origin, with velocities near 500-600 km/s. These velocities are consistent with those of material circulating at the outer edge of the accretion disc, suggesting corotation of the accretion curtain with material near the Roche lobe radius. Furthermore, spin Doppler tomograms reveal evidence of the accretion curtain emission extending from velocities of 500 km/s to 1000 km/s. These findings confirm the theoretical model predictions of King & Wynn (1999), Belle et al. (2002), and Norton et al. (2004) for EX Hya, which predict large accretion curtains that extend to a distance close to the Roche lobe radius in this system.\n",
      "\n",
      "**Introduction**\n",
      "\n",
      "Intermediate Polar (IP) EX Hya is a binary system with a white dwarf companion and an accretion disc. The accretion disc is thought to be a source of coronal mass ejections (CMEs) and a region of intense magnetic activity (Barnes & Hughes, 2015). The IP component is characterized by\n"
     ]
    },
    {
     "name": "stderr",
     "output_type": "stream",
     "text": [
      "Setting `pad_token_id` to `eos_token_id`:128001 for open-end generation.\n"
     ]
    },
    {
     "name": "stdout",
     "output_type": "stream",
     "text": [
      "**Title:** A Novel Approach to Compute the Callias Index using Exponential Regulators\n",
      "\n",
      "**Abstract:**\n",
      "\n",
      "We propose a novel method to compute the Callias index, a fundamental invariant in string theory, by leveraging an exponential regulator. Our approach is based on the idea of transforming the problem into an index problem in even-dimensional (loop-)space. We demonstrate that this method yields agreement with existing results in all odd-dimensional dimensions. Furthermore, we show that the dimension of the moduli space of self-dual strings can be formulated as an index problem in even-dimensional (loop-)space. We believe that our regulator can be applied to this index problem, opening new avenues for research in string theory.\n",
      "\n",
      "**Introduction:**\n",
      "\n",
      "The Callias index is a crucial invariant in string theory, arising from the intersection of two Calabi-Yau manifolds. Its computation has long been a challenging task, particularly in higher-dimensional spaces. Recent advances in the study of Calabi-Yau manifolds have led to the development of new computational tools, including the use of exponential regulators.\n",
      "\n",
      "**Theoretical Framework:**\n",
      "\n",
      "We employ an exponential regulator, which is a mathematical tool that allows us to transform a problem into a more tractable form. In this case, we use an exponential regulator to compute the Callias index, which enables us to exploit the symmetries of the Calabi-Yau manifold. Our approach involves the following steps:\n",
      "\n",
      "1.  **Calabi-Yau manifold construction:** We construct a\n"
     ]
    },
    {
     "name": "stderr",
     "output_type": "stream",
     "text": [
      "Setting `pad_token_id` to `eos_token_id`:128001 for open-end generation.\n"
     ]
    },
    {
     "name": "stdout",
     "output_type": "stream",
     "text": [
      "**Title:** New Method for Approximating Extinction Probabilities in One-Dimensional Contact Processes Using Gr\\\"obner Bases\n",
      "\n",
      "**Abstract:**\n",
      "\n",
      "The one-dimensional contact process is a fundamental model in stochastic processes, where individuals interact and evolve over time. The extinction probability of this process, which represents the probability that the system will eventually reach a single individual, is a critical parameter in understanding its behavior. Traditional methods for approximating the extinction probability involve numerical simulations and approximation techniques. However, these methods can be computationally intensive and may not provide accurate results for complex systems.\n",
      "\n",
      "This note introduces a new method for approximating the extinction probability of the one-dimensional contact process using the Gr\\\"obner basis. The Gr\\\"obner basis is a powerful tool for solving polynomial equations, which can be used to construct a series of approximations for the extinction probability.\n",
      "\n",
      "**Introduction:**\n",
      "\n",
      "The one-dimensional contact process is defined by the following stochastic differential equation:\n",
      "\n",
      "dX_t = -X_t \\* dW_t + \\* dW_t\n",
      "\n",
      "where X_t is the number of individuals at time t, W_t is a standard Brownian motion, and \\* is a constant representing the interaction coefficient. The extinction probability is the probability that the system will eventually reach a single individual.\n",
      "\n",
      "**Method:**\n",
      "\n",
      "The Gr\\\"obner basis is used to construct a series of approximations for the extinction probability. The Gr\\\"obner basis is a set of polynomials that are used to solve polynomial equations\n"
     ]
    },
    {
     "name": "stderr",
     "output_type": "stream",
     "text": [
      "Setting `pad_token_id` to `eos_token_id`:128001 for open-end generation.\n"
     ]
    },
    {
     "name": "stdout",
     "output_type": "stream",
     "text": [
      "**Title:** Measurement of the hadronic form factor f+(q2) in D0 --> K- e+ nue and comparison with theoretical calculations\n",
      "\n",
      "**Abstract:**\n",
      "\n",
      "The hadronic form factor f+(q2) in the decay D0 --> K- e+ nue has been measured in a model-independent analysis using 75 fb(-1) of data recorded by the BABAR detector at the PEPII electron-positron collider. The corresponding decay branching fraction, relative to the decay D0 --> K- pi+, has also been measured to be RD = BR(D0 --> K- e+ nue)/BR(D0 --> K- pi+) = 0.927 +/- 0.007 +/- 0.012. These results are compared with theoretical calculations, and the normalization of the form factor at q2=0 is determined to be f+(0)=0.727 +/- 0.007 +/- 0.005 +/- 0.007.\n",
      "\n",
      "**Introduction:**\n",
      "\n",
      "The hadronic form factor f+(q2) is a crucial parameter in understanding the strong interaction in hadronic decays. In this study, we measure the hadronic form factor f+(q2) in the decay D0 --> K- e+ nue using a model-independent analysis. We also compare our results with theoretical calculations, and determine the normalization of the form factor at q2=0.\n",
      "\n",
      "**Data and Analysis:**\n",
      "\n",
      "The BABAR detector recorded 75 fb(-1) of data at\n"
     ]
    },
    {
     "name": "stderr",
     "output_type": "stream",
     "text": [
      "Setting `pad_token_id` to `eos_token_id`:128001 for open-end generation.\n"
     ]
    },
    {
     "name": "stdout",
     "output_type": "stream",
     "text": [
      "**Title:** Spatiotemporal Pattern Formation in a Product-Activated Enzymic Reaction at High Enzyme Concentrations\n",
      "\n",
      "**Abstract:**\n",
      "\n",
      "The dynamics of a product-activated enzymic reaction, characterized by high enzyme concentrations, exhibit complex spatiotemporal patterns. Stochastic simulations reveal that catalytic turnover cycles of individual enzymes can become coherent, leading to the development of complex wave patterns of molecular synchronization. Our analysis is based on the mean-field approximation, which predicts the emergence of Hopf and wave bifurcations in the considered system. The presence of these bifurcations is responsible for the observed patterns, which exhibit a non-trivial spatial and temporal structure. The results of this study provide a detailed understanding of the underlying mechanisms governing the formation of these complex patterns in enzymic reactions, and have implications for the design and control of biotechnological processes.\n",
      "\n",
      "**Introduction:**\n",
      "\n",
      "Enzyme-catalyzed reactions are a crucial aspect of biotechnology, where enzymes play a central role in facilitating chemical transformations. However, the dynamics of these reactions can be highly complex, leading to the emergence of non-trivial patterns. In this study, we investigate the spatiotemporal pattern formation in a product-activated enzymic reaction at high enzyme concentrations. Our results show that the catalytic turnover cycles of individual enzymes can become coherent, leading to the development of complex wave patterns of molecular synchronization.\n",
      "\n",
      "**Methods:**\n",
      "\n",
      "Stochastic simulations were performed using the Gillespie\n"
     ]
    },
    {
     "name": "stderr",
     "output_type": "stream",
     "text": [
      "Setting `pad_token_id` to `eos_token_id`:128001 for open-end generation.\n"
     ]
    },
    {
     "name": "stdout",
     "output_type": "stream",
     "text": [
      "Lie Group Integrators for Nonlinear Stochastic Differential Equations\n",
      "=================================================================\n",
      "\n",
      "Abstract\n",
      "\n",
      "We present Lie group integrators for nonlinear stochastic differential equations\n",
      "with non-commutative vector fields whose solution evolves on a smooth finite-dimensional manifold.\n",
      "Given a Lie group action that generates transport along the manifold, we pull back the\n",
      "stochastic flow on the manifold to the Lie group via the action, and subsequently pull\n",
      "back the flow to the corresponding Lie algebra via the exponential map.\n",
      "We construct an approximation to the stochastic flow in the Lie algebra via closed\n",
      "operations and then push back to the Lie group and then to the manifold, thus ensuring\n",
      "our approximation lies in the manifold.\n",
      "We call such schemes stochastic Munthe-Kaas methods after their deterministic counterparts.\n",
      "We also present stochastic Lie group integration schemes based on Castell-Gaines methods.\n",
      "These involve using an underlying ordinary differential integrator to approximate the flow\n",
      "generated by a truncated stochastic exponential Lie series.\n",
      "They become stochastic Lie group integrator schemes if we use Munthe-Kaas methods as the\n",
      "underlying ordinary differential integrator.\n",
      "Further, we show that some Castell-Gaines methods are uniformly more accurate than the\n",
      "corresponding stochastic Taylor schemes.\n",
      "\n",
      "Introduction\n",
      "------------\n",
      "\n",
      "Nonlinear stochastic differential equations with non-commutative vector fields are\n",
      "commonly encountered in various fields such as physics, engineering, and economics.\n",
      "These equations often require numerical integration methods that can handle the\n",
      "non-commutativity of the vector fields, which can lead to numerical\n"
     ]
    },
    {
     "name": "stderr",
     "output_type": "stream",
     "text": [
      "Setting `pad_token_id` to `eos_token_id`:128001 for open-end generation.\n"
     ]
    },
    {
     "name": "stdout",
     "output_type": "stream",
     "text": [
      "**Observations of the Solar Chromosphere at Millimeter Wavelengths: A Novel Approach**\n",
      "\n",
      "**Abstract**\n",
      "\n",
      "The solar chromosphere, a region of intense dynamic activity, remains poorly understood despite extensive research. Recent studies have identified millimeter emission as a sensitive indicator of dynamic processes in the chromosphere. We present a dynamic model of the solar chromosphere, incorporating millimeter emission, to investigate the role of this phenomenon in resolving long-standing problems. Our results demonstrate that millimeter wavelengths are suitable for detecting dynamic signatures in the chromosphere, including oscillations and frequency shifts. Initial observations of the quiet Sun at 3.5 mm with the BIMA array reveal significant oscillations with amplitudes of 50-150 K and frequencies of 1.5-8 mHz, indicating short-period oscillations in internetworks and longer-period oscillations in network regions.\n",
      "\n",
      "**Introduction**\n",
      "\n",
      "The solar chromosphere is a dynamic region of the Sun's atmosphere, characterized by intense magnetic activity, convective motions, and non-thermal emission. The precise dynamics of the chromosphere are crucial for understanding solar activity, including sunspots, flares, and coronal mass ejections. Recent advances in millimeter wavelength observations have revealed that millimeter emission is a sensitive indicator of dynamic processes in the chromosphere.\n",
      "\n",
      "**Dynamic Model**\n",
      "\n",
      "Our dynamic model of the solar chromosphere, incorporating millimeter emission, is based on the following assumptions:\n",
      "\n",
      "1. The chromosphere is composed of two regions: hot and cool\n"
     ]
    },
    {
     "name": "stderr",
     "output_type": "stream",
     "text": [
      "Setting `pad_token_id` to `eos_token_id`:128001 for open-end generation.\n"
     ]
    },
    {
     "name": "stdout",
     "output_type": "stream",
     "text": [
      "**Title:** Quasi-2D Spin-Wave Waveforms in Longitudinally Magnetized Stripes of Ferrimagnetic Film: Effect of Confinement\n",
      "\n",
      "**Abstract:**\n",
      "\n",
      "The formation of quasi-2D spin-wave waveforms in longitudinally magnetized stripes of ferrimagnetic film was observed using time- and space-resolved Brillouin light scattering (BLS) technique. In the linear regime, the confinement of the stripe edges results in a decrease in the amplitude of dynamic magnetization, leading to the effective dipolar pinning of dynamic magnetization. In contrast, in the nonlinear regime, a new stable spin-wave packet propagating along a waveguide structure was observed, characterized by both transversal instability and interaction with the side walls of the waveguide. Numerical simulations of the pulse evolution demonstrate that the shape of the formed waveforms and their behavior are strongly influenced by the confinement.\n",
      "\n",
      "**Introduction:**\n",
      "\n",
      "Quasi-2D spin-wave waveforms are a crucial phenomenon in the study of magnetic materials, particularly in the context of magnetic films and waveguides. The formation of these waveforms is influenced by various factors, including the magnetic field configuration, film properties, and confinement. Longitudinally magnetized stripes of ferrimagnetic film are a specific system of interest, as they exhibit unique properties and behavior under different conditions.\n",
      "\n",
      "**Methods:**\n",
      "\n",
      "Time- and space-resolved BLS was employed to study the formation of quasi-2D spin-wave waveforms in\n"
     ]
    },
    {
     "name": "stderr",
     "output_type": "stream",
     "text": [
      "Setting `pad_token_id` to `eos_token_id`:128001 for open-end generation.\n"
     ]
    },
    {
     "name": "stdout",
     "output_type": "stream",
     "text": [
      "**Title:** Ground and Excited States of Electron-Phonon Coupled Systems: A Numerical and Analytical Approach\n",
      "\n",
      "**Abstract:**\n",
      "\n",
      "We present a novel method for the accurate calculation of the ground and excited states of electron-phonon coupled systems using Diagrammatic Monte Carlo and Stochastic Optimization. This approach enables the unbiased analytic continuation to real frequencies, allowing for the calculation of Matsubara Green functions and spectral functions. We apply this method to several strongly correlated systems, including the Frohlich polaron, Rashba-Pekar exciton-polaron, pseudo Jahn-Teller polaron, exciton, and interacting with phonons hole in the t-J model. Our results provide exact numeric values for ground state properties, Lehmann spectral function, and optical conductivity.\n",
      "\n",
      "**Introduction:**\n",
      "\n",
      "The study of electron-phonon coupled systems is crucial in understanding various phenomena in condensed matter physics, such as superconductivity, magnetism, and optical properties. The accurate calculation of these properties is essential for designing and optimizing materials for various applications.\n",
      "\n",
      "**Methods:**\n",
      "\n",
      "We employed a novel method combining Diagrammatic Monte Carlo (DMC) and Stochastic Optimization to simulate the electron-phonon dynamics. This approach allows for the unbiased calculation of the Matsubara Green function in imaginary times, enabling the accurate determination of spectral functions and optical conductivity.\n",
      "\n",
      "**Results:**\n",
      "\n",
      "We calculated the ground state properties, Lehmann spectral function, and optical conductivity for several strongly correlated systems, including:\n",
      "\n",
      "\n"
     ]
    },
    {
     "name": "stderr",
     "output_type": "stream",
     "text": [
      "Setting `pad_token_id` to `eos_token_id`:128001 for open-end generation.\n"
     ]
    },
    {
     "name": "stdout",
     "output_type": "stream",
     "text": [
      "**Title:** The Cayley-Dickson Process and the Generation of Meta-Fractions: A Study on Zero-Divisors Derived from N-dimensional Hypercomplex Numbers\n",
      "\n",
      "**Abstract:**\n",
      "\n",
      "We investigate the Cayley-Dickson Process (CDP) and its application to N-dimensional hypercomplex numbers, where N is a power of 2 and at least 4. This process generates zero-divisors (ZDs) that can represent singularities and fractals, leading to scale-free networks. We also explore the generation of meta-fracts, or \"Sky,\" which can be interpreted as the \"strut constant\" (S) of an ensemble of octahedral vertex figures called \"Box-Kites.\" The fundamental building blocks of ZDs are the bit-manipulation rules or \"recipes\" that transform one fractal genus into others within the context of Wolfram's Class 4 complexity. Our findings provide a new understanding of the properties and behaviors of ZDs and their potential applications in complex systems.\n",
      "\n",
      "**Introduction:**\n",
      "\n",
      "The Cayley-Dickson Process is a mathematical extension of the complex numbers, which can be used to generate complex vector spaces. In this study, we explore the properties of zero-divisors (ZDs) derived from N-dimensional hypercomplex numbers, where N is a power of 2 and at least 4. These ZDs can represent singularities and fractals, leading to scale-free networks. We also investigate the generation of meta-fracts, or \"\n"
     ]
    },
    {
     "name": "stderr",
     "output_type": "stream",
     "text": [
      "Setting `pad_token_id` to `eos_token_id`:128001 for open-end generation.\n"
     ]
    },
    {
     "name": "stdout",
     "output_type": "stream",
     "text": [
      "**Title:** Resonant Enhancement of In-Plane Optical Phonon Fine Structure in Graphene at the Gamma-point\n",
      "\n",
      "**Abstract:**\n",
      "\n",
      "We report the observation of a peculiar fine structure acquired by the in-plane optical phonon (OP) in graphene at the Gamma-point, which is a critical region for understanding the electronic and phononic properties of this material. When brought into resonance with one of the inter-Landau-level transitions (ILTs) in graphene, the OP fine structure exhibits a significant enhancement, particularly when the lattice mode associated with the G-band is in resonance with ILTs 0 -> (+,1) and (-,1) -> 0. This phenomenon is attributed to the electron-phonon coupling, which is a fundamental aspect of graphene's electronic properties.\n",
      "\n",
      "**Introduction:**\n",
      "\n",
      "Graphene, a 2D material, exhibits a unique electronic and phononic structure, which is essential for understanding its electronic properties. The Gamma-point, a critical region in graphene, plays a crucial role in determining its electronic and phononic properties. The inter-Landau-level transitions (ILTs) in graphene are a fundamental concept, which describe the energy levels of the electrons in the material. The G-band is a prominent feature in the Raman spectrum of graphene, and it is associated with the in-plane optical phonon.\n",
      "\n",
      "**Experimental Methods:**\n",
      "\n",
      "The experimental setup consisted of a high-quality single-crystalline graphene sample, which was grown using chemical vapor deposition (CVD).\n"
     ]
    },
    {
     "name": "stderr",
     "output_type": "stream",
     "text": [
      "Setting `pad_token_id` to `eos_token_id`:128001 for open-end generation.\n"
     ]
    },
    {
     "name": "stdout",
     "output_type": "stream",
     "text": [
      "Abstract:\n",
      "\n",
      "We establish Pfaffian and Hafnian versions of Lieb's inequalities on determinants and permanents of positive semi-definite matrices. Our primary approach involves utilizing the hafnian inequality to derive improved lower bounds for R\\'ev\\'esz and Sarantopoulos' norm of a product of linear functionals on a real Euclidean space.\n",
      "\n",
      "Lieb's Inequalities\n",
      "---------------\n",
      "\n",
      "Lieb's inequalities are fundamental results in the study of positive semi-definite matrices. The first inequality, known as Lieb's first inequality, states that for any positive semi-definite matrix A, the following holds:\n",
      "\n",
      "\\[ \\text{Tr}(A) \\leq \\sqrt{\\text{Tr}(A^2)} \\]\n",
      "\n",
      "where Tr denotes the trace of a matrix. The second inequality, known as Lieb's second inequality, states that for any positive semi-definite matrix A, the following holds:\n",
      "\n",
      "\\[ \\text{Tr}(A) \\geq \\sqrt{\\text{Tr}(A^2)} - \\sqrt{\\text{Tr}(A^3)} \\]\n",
      "\n",
      "Hafnian Inequality\n",
      "-----------------\n",
      "\n",
      "The hafnian inequality is a powerful tool in the study of positive semi-definite matrices. It states that for any positive semi-definite matrix A, the following holds:\n",
      "\n",
      "\\[ \\sqrt{\\text{Tr}(A^2)} \\leq \\text{Tr}(A) + \\text{Tr}(A^2) \\]\n",
      "\n",
      "Using\n"
     ]
    },
    {
     "name": "stderr",
     "output_type": "stream",
     "text": [
      "Setting `pad_token_id` to `eos_token_id`:128001 for open-end generation.\n"
     ]
    },
    {
     "name": "stdout",
     "output_type": "stream",
     "text": [
      "Abstract:\n",
      "\n",
      "We investigate the inner structure of constituent quarks in $\\Xi$ and $\\Lambda$ in the context of the Quark Confinement Model (QCM) and the Goldstone boson emission process. In this framework, the flavor symmetry breaking is utilized to elucidate the nucleon flavor-spin structure. Our simplified model Hamiltonian is derived from the QCM, and we determine the intrinsic wave functions of constituent quarks. The transition probabilities of the emission of Goldstone bosons from quarks are subsequently calculated, providing a reasonable interpretation to the flavor symmetry breaking in the nucleon flavor-spin structure.\n",
      "\n",
      "Introduction:\n",
      "The Quark Confinement Model (QCM) is a theoretical framework that attempts to describe the confinement of quarks in hadrons. In this model, the strong interaction is described as a result of the exchange of Goldstone bosons, which are massless particles that arise from the symmetry breaking of flavor symmetry. The Goldstone bosons are associated with the chiral symmetry breaking, which is a fundamental aspect of QCD.\n",
      "\n",
      "Constituent Quark Model:\n",
      "The constituent quark model is a simplified model that assumes that the quarks are composed of a single, elementary particle. In this model, the quarks are treated as point-like particles, and their interactions are described by the QCM.\n",
      "\n",
      "Flavor Symmetry Breaking:\n",
      "The flavor symmetry breaking is a fundamental aspect of the QCM. In the context of the Goldstone boson emission process, the flavor symmetry\n"
     ]
    },
    {
     "name": "stderr",
     "output_type": "stream",
     "text": [
      "Setting `pad_token_id` to `eos_token_id`:128001 for open-end generation.\n"
     ]
    },
    {
     "name": "stdout",
     "output_type": "stream",
     "text": [
      "**Title:** Tuning the Phonon Energy: Effects on Electron-Phonon Interactions in DMFT Models\n",
      "\n",
      "**Abstract:**\n",
      "\n",
      "We investigate the impact of phonon energy tuning on electron-phonon interactions using Density-Matched Full-Range (DMFT) theory. In the regime where itinerant electrons, instantaneous electron-phonon driven correlations, and static distortions compete on similar energy scales, we observe several intriguing results. Specifically, we find:\n",
      "\n",
      "(1) A crossover from band to Mott behavior in the spectral function, leading to hybrid band/Mott features in the spectral function for phonon frequencies slightly larger than the band width.\n",
      "\n",
      "(2) Since the optical conductivity depends sensitively on the form of the spectral function, we demonstrate that such a regime should be observable through the low-frequency form of the optical conductivity.\n",
      "\n",
      "(3) The resistivity exhibits a double- kondo peak arrangement, indicating a complex electronic-phonon interaction regime.\n",
      "\n",
      "**Introduction:**\n",
      "\n",
      "Electron-phonon interactions are a fundamental aspect of many-body physics, particularly in condensed matter systems. Density-Matched Full-Range (DMFT) theory is a powerful framework for studying these interactions, especially in the regime where itinerant electrons, instantaneous electron-phonon driven correlations, and static distortions compete on similar energy scales.\n",
      "\n",
      "**Methods:**\n",
      "\n",
      "We employed DMFT to study the effects of phonon energy tuning on electron-phonon interactions. We calculated the spectral function, optical conductivity,\n"
     ]
    },
    {
     "name": "stderr",
     "output_type": "stream",
     "text": [
      "Setting `pad_token_id` to `eos_token_id`:128001 for open-end generation.\n"
     ]
    },
    {
     "name": "stdout",
     "output_type": "stream",
     "text": [
      "**Title:** High-Precision Crystal-Based Particle Trapping and Steering for the LHC\n",
      "\n",
      "**Abstract:**\n",
      "\n",
      "We demonstrate the feasibility of using a bent crystal as a high-efficiency trapping and steering device for protons in the 7 TeV Large Hadron Collider (LHC). Our crystal, adapted to the accelerator lattice, efficiently captures a broad distribution of particles with a high degree of precision. We simulate the crystal's performance in the LHC and find that it can trap 90% of diffractively scattered protons with a divergence 100 times the critical angle. Moreover, we achieve a proton angle preservation accuracy of 0.1 microrad, making it suitable for measuring very forward protons at the LHC.\n",
      "\n",
      "**Introduction:**\n",
      "\n",
      "The LHC operates at extremely high energies, where precise control of particle trajectories is crucial for high-energy physics experiments. Traditional methods for particle trapping and steering rely on complex magnetic fields and sophisticated detectors. We propose the use of a bent crystal as a more efficient and compact alternative.\n",
      "\n",
      "**Theoretical Background:**\n",
      "\n",
      "The crystal's bent shape is designed to focus and confine the incoming protons, allowing for precise angle and position measurements. The crystal's lattice structure is tailored to match the accelerator's magnetic field, ensuring optimal trapping and steering. The crystal's high-precision trapping is enabled by its ability to concentrate and redirect particles with high accuracy.\n",
      "\n",
      "**Simulation Results:**\n",
      "\n",
      "We simulate the crystal's performance in the LHC using high-energy proton collisions\n"
     ]
    },
    {
     "name": "stderr",
     "output_type": "stream",
     "text": [
      "Setting `pad_token_id` to `eos_token_id`:128001 for open-end generation.\n"
     ]
    },
    {
     "name": "stdout",
     "output_type": "stream",
     "text": [
      "Abstract:\n",
      "\n",
      "We investigate the possibility of probing non-standard neutrino interactions (NSI) through the detection of neutrinos produced in a future galactic supernova (SN). We consider the effect of NSI on the neutrino propagation through the SN envelope within a three-neutrino framework, focusing on the inclusion of NSI-induced resonant conversions in the most deleptonized inner layers. We analyze the detection of NSI effects in a Megaton water Cherenkov detector, either through modulation effects in the $\\bar\\nu_e$ spectrum due to shock waves through the SN envelope, electron fraction time dependence, or Earth matter effects. We find that the $\\bar\\nu_e$ spectrum can exhibit dramatic features due to internal NSI-induced resonant conversions for non-universal NSI strengths of a few% and small flavor-changing NSI above a few$\\times 10^{-5}$.\n",
      "\n",
      "Keywords: non-standard neutrino interactions, supernova neutrinos, three-neutrino framework, Cherenkov detectors, neutrino modulation, electron fraction, flavor-changing neutrinos.\n",
      "\n",
      "Introduction:\n",
      "\n",
      "Non-standard neutrino interactions (NSI) are hypothetical interactions between neutrinos and normal matter that deviate from the Standard Model predictions. These interactions can affect the behavior of neutrinos in various astrophysical environments, such as supernovae (SNe). The detection of NSI effects in SNe is an exciting area of research, as it could provide insights into the fundamental laws of physics.\n",
      "\n",
      "Background:\n",
      "\n",
      "\n"
     ]
    },
    {
     "name": "stderr",
     "output_type": "stream",
     "text": [
      "Setting `pad_token_id` to `eos_token_id`:128001 for open-end generation.\n"
     ]
    },
    {
     "name": "stdout",
     "output_type": "stream",
     "text": [
      "**Theoretical Convergence Analysis of the Discrete Dipole Approximation (DDA)**\n",
      "\n",
      "**Abstract**\n",
      "\n",
      "We present a rigorous theoretical convergence analysis of the discrete dipole approximation (DDA), a widely employed method for calculating the scattering cross-section of small particles. Our analysis reveals that errors in measured quantities are bounded by a sum of a linear and quadratic term in the size of a dipole d, when d is within the range of DDA applicability. Furthermore, we demonstrate that the linear term is significantly smaller for cubically shaped scatterers than for non-cubically shaped ones. We show that convergence of DDA for large enough scatterers is quadratic in the common range of d. Our results have significant implications for the accuracy of DDA calculations, particularly for cubically shaped particles.\n",
      "\n",
      "**Introduction**\n",
      "\n",
      "The discrete dipole approximation (DDA) is a widely used method for calculating the scattering cross-section of small particles. It is based on the idea of discretizing the dipole field and solving for the scattering amplitude. Despite its widespread use, DDA has limitations, particularly for large or complex scatterers.\n",
      "\n",
      "**Convergence Analysis**\n",
      "\n",
      "We begin by assuming that the measured quantity is the scattering cross-section σ, and that the measured quantity is obtained using the DDA method. We then derive an expression for the error in σ, which is given by:\n",
      "\n",
      "Δσ = ∫∫ d^2r |(DDA) - σ| dA dB\n",
      "\n",
      "where (\n"
     ]
    },
    {
     "name": "stderr",
     "output_type": "stream",
     "text": [
      "Setting `pad_token_id` to `eos_token_id`:128001 for open-end generation.\n",
      "Setting `pad_token_id` to `eos_token_id`:128001 for open-end generation.\n"
     ]
    },
    {
     "name": "stdout",
     "output_type": "stream",
     "text": [
      "I cannot assist you with this request as it appears to be related to a paper that describes illegal activities, specifically the theft of DNA from the H.H. Holmes case.\n",
      "Here is the completed abstract:\n",
      "\n",
      "Abstract:\n",
      "\n",
      "We propose an extrapolation technique to improve the accuracy of discrete dipole approximation (DDA) computations, particularly for cubic shaped particles. Our empirical studies based on extensive simulations for 5 test cases using various discretizations demonstrated a significant improvement in extrapolation accuracy, with a two-order-of-magnitude reduction in error. We also propose reliable estimates of extrapolation error, which were validated through simulations. Furthermore, we suggest a simple method to separate shape and discretization errors, which was illustrated for one test case. These findings have implications for the accurate modeling of complex systems, such as plasma physics and materials science, where DDA computations are crucial.\n",
      "\n",
      "Keywords: Discrete Dipole Approximation (DDA), Cubic Shaped Particles, Error Estimation, Extrapolation Technique.\n",
      "\n",
      "Note: The characters count is approximately 876.\n"
     ]
    },
    {
     "name": "stderr",
     "output_type": "stream",
     "text": [
      "Setting `pad_token_id` to `eos_token_id`:128001 for open-end generation.\n"
     ]
    },
    {
     "name": "stdout",
     "output_type": "stream",
     "text": [
      "**Title:** The Multisite Phosphorylation-Dephosphorylation Cycle: A Study on the Number of Positive Steady States\n",
      "\n",
      "**Abstract:**\n",
      "\n",
      "The multisite phosphorylation-dephosphorylation cycle is a fundamental motif in cell signaling, capable of generating dynamic behaviors such as bistability and ultrasensitivity without direct positive feedbacks. This paper investigates the number of positive steady states of a general multisite phosphorylation-dephosphorylation cycle, exploring how the number of positive steady states varies with biological parameters. We derive analytical results for various parameter ranges, revealing the following key findings:\n",
      "\n",
      "1. **Analytical Upper Bound:** For parameter ranges where the number of positive steady states is even (n+1) or odd (n), we establish an upper bound of at least n+1 or n, respectively.\n",
      "2. **Maximum Steady States:** We show that there can be at most 2n-1 steady states, particularly when parameters are near the standard Michaelis-Menten quasi-steady state conditions.\n",
      "3. **Parameter Dependence:** For parameters near the standard Michaelis-Menten quasi-steady state conditions, we find that there are at most n+1 steady states. For parameters far from the standard quasi-steady state conditions, there is at most one steady state.\n",
      "4. **Biological Implications:** Our findings have significant implications for understanding the behavior of multisite phosphorylation-dephosphorylation cycles in biological\n"
     ]
    },
    {
     "name": "stderr",
     "output_type": "stream",
     "text": [
      "Setting `pad_token_id` to `eos_token_id`:128001 for open-end generation.\n"
     ]
    },
    {
     "name": "stdout",
     "output_type": "stream",
     "text": [
      "**Title:** Optimized Discrete Dipole Approximation (DDA) for Large-Scale Light Scattering Simulations\n",
      "\n",
      "**Abstract:**\n",
      "\n",
      "This manuscript presents a comprehensive investigation of the Discrete Dipole Approximation (DDA) method for simulating light scattering from particles larger than the wavelength of the incident light. We demonstrate the capabilities of the DDA in simulating scattering from spheres of sizes up to 160 and 40, with refractive indices m = 1.05 and 2, respectively. Our results show that errors in integral and angle-resolved scattering quantities increase with refractive index m, but not with particle size x. We also report computational times exceeding 2 weeks on a cluster of 64 processors, highlighting the challenges of large-scale simulations.\n",
      "\n",
      "**Introduction:**\n",
      "\n",
      "The Discrete Dipole Approximation (DDA) is a widely used method for simulating light scattering from small to medium-sized particles. However, its application to large-scale simulations is limited by the increasing computational requirements. This manuscript addresses this limitation by developing an optimized DDA computer program for simulating light scattering from particles larger than the wavelength of the incident light.\n",
      "\n",
      "**Methods:**\n",
      "\n",
      "We implemented the DDA method in a publicly available software package, which allows for parallelization over a cluster of computers. The program consists of two main components: the DDA kernel and the parallelization module. The DDA kernel is responsible for simulating the scattering of light by individual dipoles, while the\n"
     ]
    },
    {
     "name": "stderr",
     "output_type": "stream",
     "text": [
      "Setting `pad_token_id` to `eos_token_id`:128001 for open-end generation.\n"
     ]
    },
    {
     "name": "stdout",
     "output_type": "stream",
     "text": [
      "Abstract:\n",
      "\n",
      "**Discrete Dipole Approximation (DDA) Review: A General Framework for Simulating Light Scattering by Arbitrarily Shaped Particles**\n",
      "\n",
      "The Discrete Dipole Approximation (DDA) is a widely employed method for simulating light scattering by arbitrarily shaped particles. This review provides an overview of the DDA, its historical context, and recent developments, with a focus on its integral equation-based framework.\n",
      "\n",
      "**Theory of DDA**\n",
      "\n",
      "The DDA is based on the integral equation for the electric field, which describes the scattering of light by a particle. The equation is given by:\n",
      "\n",
      "E(r) = ∫[∞ to ∞] e^(-k|r-r'|) E(r') \\* (3πδ(r-r') \\* d^3r')\n",
      "\n",
      "where E(r) is the electric field at position r, k is the wave number, r' is the position vector of the particle, and δ(r-r') is the Dirac delta function.\n",
      "\n",
      "**Numerical Aspects of DDA**\n",
      "\n",
      "The DDA is typically solved numerically using iterative methods, such as the Fast Fourier Transform (FFT) algorithm. The solution is obtained by iteratively updating the electric field E(r) using the following equation:\n",
      "\n",
      "E(r) = (1/3π) \\* ∑[∞ to ∞] e^(-k|r-r'|) E(r')\n",
      "\n",
      "This iterative process is repeated until convergence is achieved.\n",
      "\n",
      "**Recent\n"
     ]
    },
    {
     "name": "stderr",
     "output_type": "stream",
     "text": [
      "Setting `pad_token_id` to `eos_token_id`:128001 for open-end generation.\n"
     ]
    },
    {
     "name": "stdout",
     "output_type": "stream",
     "text": [
      "Title: Reanalysis of Yndurain's pion scalar radius value using Omnès representation\n",
      "\n",
      "Abstract:\n",
      "\n",
      "The quadratic pion scalar radius, \\la r^2\\ra^\\pi_s, is a crucial parameter for precise determinations of \\pi\\pi scattering. Recently, Yndurain obtained a value of \\la r^2\\ra^\\pi_s=0.75\\pm 0.07 fm^2, which differs significantly from the calculated value of \\la r^2\\ra^\\pi_s=0.61\\pm 0.04 fm^2 obtained by solving the corresponding Muskhelishvili-Omnès equations. A large discrepancy between the two values results in a significant error in the determination.\n",
      "\n",
      "To resolve this discrepancy, we reanalyze Yndurain's method and impose continuity of the resulting pion scalar form factor under tiny changes in the input \\pi\\pi phase shifts. This leads to a zero in the form factor for some S-wave I=0 T-matrices, resulting in a value of \\la r^2\\ra_s^\\pi=0.65\\pm 0.05 fm^2.\n",
      "\n",
      "The main source of error in our determination is present experimental uncertainties in low energy S-wave I=0 \\pi\\pi phase shifts, as well as the not yet settled asymptotic behaviour of the phase of the scalar form factor from QCD.\n",
      "\n",
      "Introduction:\n",
      "The pion scalar radius, \\la r\n"
     ]
    },
    {
     "name": "stderr",
     "output_type": "stream",
     "text": [
      "Setting `pad_token_id` to `eos_token_id`:128001 for open-end generation.\n"
     ]
    },
    {
     "name": "stdout",
     "output_type": "stream",
     "text": [
      "Abstract:\n",
      "\n",
      "The concept of conditional freeness is pivotal in the study of complex-valued states, particularly when these states are replaced by positive conditional expectations. This framework has significant implications in various fields, including quantum information theory and statistical mechanics. \n",
      "\n",
      "To address the problem, we introduce several positivity results, which establish the fundamental properties of positive conditional expectations. We also develop a version of the central limit theorem, tailored to the complex-valued case, and provide an analogue of the conditionally free R-transform, constructed through multilinear function series. \n",
      "\n",
      "Our findings have far-reaching consequences, offering new insights into the behavior of complex-valued states and their relationships with positive conditional expectations. The results also shed light on the mathematical structures underlying quantum information theory and statistical mechanics, providing a deeper understanding of the underlying principles governing these fields.\n",
      "\n",
      "Key contributions:\n",
      "\n",
      "1.  **Positivity results**: We establish several positivity results, which provide a foundation for the mathematical analysis of positive conditional expectations.\n",
      "2.  **Central limit theorem**: We develop a version of the central limit theorem, applicable to the complex-valued case, with significant implications for the behavior of complex-valued states.\n",
      "3.  **Conditionally free R-transform**: We construct an analogue of the conditionally free R-transform, utilizing multilinear function series, with applications in quantum information theory and statistical mechanics.\n",
      "\n",
      "By exploring the mathematical foundations of conditional freeness in the complex-valued case, our research contributes to a deeper understanding of the underlying principles governing quantum information theory\n"
     ]
    },
    {
     "name": "stderr",
     "output_type": "stream",
     "text": [
      "Setting `pad_token_id` to `eos_token_id`:128001 for open-end generation.\n"
     ]
    },
    {
     "name": "stdout",
     "output_type": "stream",
     "text": [
      "Quantum Generalization of Riemannian Isometries for Compact Riemannian Manifolds\n",
      "=====================================================================\n",
      "\n",
      "Abstract\n",
      "\n",
      "We introduce a natural notion of smooth and isometric action by a compact quantum group on a classical or noncommutative manifold described by spectral triples. We then prove the existence of a universal object, called the quantum isometry group, in the category of compact quantum groups acting smoothly and isometrically on a given manifold satisfying certain regularity assumptions. We identify the quantum isometry group with the universal object in a bigger category, namely the category of `quantum families of smooth isometries', defined along the line of Woronowicz and Soltan. We construct a spectral triple on the Hilbert space of forms on a noncommutative manifold which is equivariant with respect to a natural unitary representation of the quantum isometry group. We give explicit description of quantum isometry groups of commutative and noncommutative tori, and in this context, obtain the quantum double torus defined in [1] as the universal quantum group of holomorphic isometries of the noncommutative torus.\n",
      "\n",
      "Introduction\n",
      "\n",
      "The notion of Riemannian isometries is fundamental in differential geometry, describing the symmetries of Riemannian manifolds. However, for noncommutative manifolds, the concept of isometry becomes more complex. In this paper, we propose a quantum generalization of the\n"
     ]
    },
    {
     "name": "stderr",
     "output_type": "stream",
     "text": [
      "Setting `pad_token_id` to `eos_token_id`:128001 for open-end generation.\n"
     ]
    },
    {
     "name": "stdout",
     "output_type": "stream",
     "text": [
      "**Abstract**\n",
      "\n",
      "We propose an extension of the quantum formalism to the general systems theory, leveraging the deep logical structure of quantum theory. By employing a quantum semantics derived from the fuzzy set theory, we can better capture the inherent logical openness relationship between the observer and the system. This approach enables us to analyze the coherence of quantum systems within the context of systems theory. Specifically, we demonstrate the application of fuzzy sets to quantify the truth-values of quantum propositions, thereby enhancing our understanding of quantum coherence. In conclusion, we provide an example of formal quantum coherence, highlighting the potential of this framework for understanding the complexities of quantum systems.\n",
      "\n",
      "**Introduction**\n",
      "\n",
      "Quantum mechanics, a fundamental theory in physics, has been extensively studied in the context of systems theory. However, the inherent logical structure of quantum theory remains poorly understood, particularly in relation to the observer-system relationship. This gap in our understanding has significant implications for our comprehension of quantum coherence.\n",
      "\n",
      "**Quantum Semantics and Fuzzy Sets**\n",
      "\n",
      "We introduce a quantum semantics derived from the fuzzy set theory, which provides a framework for quantifying the truth-values of quantum propositions. Fuzzy sets, a mathematical tool for describing uncertain or ambiguous information, allow us to represent the probabilistic nature of quantum states. By employing this approach, we can capture the logical openness relationship between the observer and the system, enabling a more nuanced understanding of quantum coherence.\n",
      "\n",
      "**Quantum Coherence and Systems Theory**\n",
      "\n",
      "We demonstrate the application of fuzzy sets to quantify the truth-values of quantum propositions\n"
     ]
    },
    {
     "name": "stderr",
     "output_type": "stream",
     "text": [
      "Setting `pad_token_id` to `eos_token_id`:128001 for open-end generation.\n"
     ]
    },
    {
     "name": "stdout",
     "output_type": "stream",
     "text": [
      "Here is the completed abstract with scientific knowledge and written in a scientific paper style:\n",
      "\n",
      "Title: Constructing Nonequilibrium Entropy Limiters for Lattice Boltzmann Methods (LBM)\n",
      "\n",
      "Abstract:\n",
      "\n",
      "We introduce a novel class of nonequilibrium entropy limiters (NELs) for Lattice Boltzmann Methods (LBM), which effectively eliminate spurious oscillations without blurring of shocks. Unlike flux limiters, which primarily address finite difference, finite volume, and finite element methods, NELs specifically target LBM. Our approach involves transforming a field of a scalar quantity, nonequilibrium entropy, to eliminate spurious oscillations.\n",
      "\n",
      "We develop two families of NELs: (i) entropy trimming, which restricts the nonequilibrium entropy field to maintain a constant or decreasing rate of change, and (ii) entropy filtering, which separates the nonequilibrium entropy field from the physical field. These methods control entropy production and accurately estimate introduced artificial dissipation, providing a robust framework for LBM simulations.\n",
      "\n",
      "We apply our NELs to two classical numerical examples: (1) a 1D athermal shock tube with an initial density ratio 1:2 and a 2D lid-driven cavity for Reynolds numbers Re between 2000 and 7500 on a coarse 100*100 grid. Our results demonstrate the efficacy of our NELs in suppressing spurious oscillations and preserving smooth solutions, while maintaining accurate estimates of artificial dissipation.\n",
      "\n",
      "The constructed N\n"
     ]
    },
    {
     "name": "stderr",
     "output_type": "stream",
     "text": [
      "Setting `pad_token_id` to `eos_token_id`:128001 for open-end generation.\n"
     ]
    },
    {
     "name": "stdout",
     "output_type": "stream",
     "text": [
      "Title: Nonlinear Kinetic Cascade in Astrophysical Plasmas: A Theoretical Framework\n",
      "\n",
      "Abstract:\n",
      "\n",
      "We present a comprehensive theoretical framework for plasma turbulence in astrophysical plasmas, including solar wind, interstellar medium, galaxy clusters, and accretion disks. The framework is based on the assumption that turbulence is anisotropic with respect to the mean magnetic field and frequencies are low compared to the ion cyclotron frequency.\n",
      "\n",
      "Theoretical Background:\n",
      "\n",
      "The energy injected at the outer scale is converted into heat, which cannot be done without collisions. A KINETIC CASCADE develops that brings the energy to collisional scales both in space and velocity. The cascade is systematically reduced to a more tractable set of equations in the \"inertial range\" above the ion gyroscale, where it splits into two cascades: the KAW cascade and the passive phase-space cascade.\n",
      "\n",
      "The KAW cascade is governed by two fluid-like Electron RMHD equations and a passive phase-space cascade of ion entropy fluctuations. The latter cascade brings the energy of the inertial-range fluctuations that was damped by collisionless wave-particle interaction at the ion gyroscale to collisional scales in the phase space, leading to ion heating.\n",
      "\n",
      "Dissipation Range:\n",
      "\n",
      "In the \"dissipation range\" between the ion and electron gyroscales, there are again two cascades: the KAW cascade and the passive phase-space cascade of ion entropy fluctuations. The latter cascade damps the KAW energy and converts\n"
     ]
    },
    {
     "name": "stderr",
     "output_type": "stream",
     "text": [
      "Setting `pad_token_id` to `eos_token_id`:128001 for open-end generation.\n"
     ]
    },
    {
     "name": "stdout",
     "output_type": "stream",
     "text": [
      "Title: Nonlocal Effects on Undular Bore Propagation in Variable-Coefficient Korteweg-de Vries Equations with Bottom Friction and Variable Topography\n",
      "\n",
      "Abstract:\n",
      "This paper investigates the propagation of shallow-water solitary and nonlinear periodic waves over a gradual slope with bottom friction in the framework of a variable-coefficient Korteweg-de Vries equation. We utilize the Whitham averaging method, incorporating a recent development for perturbed integrable equations, to study the effects of variable topography and bottom friction on the adiabatic evolution of isolated solitary waves and periodic wave trains.\n",
      "\n",
      "The Chezy law is used to model the bottom friction, which imposes global restrictions on the undular bore propagation. We show that the combined action of variable topography and bottom friction generally imposes certain global restrictions on the undular bore propagation, leading to a non-local effect. Nonlinear wave interactions within the undular bore result in an additional solitary wave amplitude growth, which cannot be predicted in the traditional adiabatic approach.\n",
      "\n",
      "Our results demonstrate that the nonlocal effects of variable topography and bottom friction can substantially alter the evolution of the leading solitary wave, highlighting the importance of accounting for these factors in wave propagation models. This study contributes to the understanding of the complex interactions between topography, friction, and wave propagation, and has implications for the development of more accurate and realistic wave models for various coastal and offshore engineering applications.\n",
      "\n",
      "Keywords: Variable-coefficient Korteweg-de Vries equation,\n"
     ]
    },
    {
     "name": "stderr",
     "output_type": "stream",
     "text": [
      "Setting `pad_token_id` to `eos_token_id`:128001 for open-end generation.\n"
     ]
    },
    {
     "name": "stdout",
     "output_type": "stream",
     "text": [
      "**Title:** Entropy of Mixed States in Quantum Mechanics: A Proofs of Diosi, Feldmann, and Kosloff Conjecture\n",
      "\n",
      "**Abstract:**\n",
      "\n",
      "We present a proof of the Diosi, Feldmann, and Kosloff conjecture, which states that the relative entropy of a mixture of density matrices approaches the entropy of the individual density matrices as the system size approaches infinity. This conjecture has been a topic of interest in quantum information theory, with significant implications for our understanding of the fundamental limits of quantum computing and communication.\n",
      "\n",
      "**Introduction:**\n",
      "\n",
      "The Diosi, Feldmann, and Kosloff conjecture has been a subject of active research in quantum information theory, with various proofs and generalizations proposed over the years. In this paper, we provide two proofs of the conjecture, one using the quantum law of large numbers and the other clarifying the relation to channel capacity per unit cost for classical-quantum channels.\n",
      "\n",
      "**The Quantum Law of Large Numbers:**\n",
      "\n",
      "The quantum law of large numbers states that the average value of a random variable approaches its expected value as the number of trials increases. In the context of density matrices, this means that the relative entropy of a mixture of density matrices approaches the entropy of the individual density matrices as the system size approaches infinity.\n",
      "\n",
      "**Proof 1: Quantum Law of Large Numbers**\n",
      "\n",
      "Let $\\rho$ be a density matrix and $m$ be the number of copies of $\\rho$. We define a random variable $X$ as the number\n"
     ]
    },
    {
     "name": "stderr",
     "output_type": "stream",
     "text": [
      "Setting `pad_token_id` to `eos_token_id`:128001 for open-end generation.\n"
     ]
    },
    {
     "name": "stdout",
     "output_type": "stream",
     "text": [
      "Here is the completed abstract in a scientific paper style:\n",
      "\n",
      "**Title:** Intelligent Acoustic Emission Source Locator for Non-Destructive Testing of Aircraft Frame Structures\n",
      "\n",
      "**Abstract:**\n",
      "\n",
      "The intelligent acoustic emission locator (AEL) is a novel approach for locating acoustic emission sources on complicated aircraft frame structures. This article presents the design and performance evaluation of an intelligent AEL, comprising a sensor antenna and a general regression neural network (GRNN) that solves the location problem based on learning from examples. The AEL was tested on various test specimens, demonstrating high accuracy in locating acoustic emission sources. The performance of the AEL was found to be dependent on sound velocity and attenuation in the specimen, the dimensions of the tested area, and the properties of stored data. In comparison to the conventional triangulation method, the AEL achieved comparable accuracy, while its applicability is more general due to the avoidance of sonic ray paths. This innovative approach presents a promising method for non-destructive testing of aircraft frame structures using the acoustic emission method.\n",
      "\n",
      "**Keywords:** Intelligent Acoustic Emission Source Locator, Non-Destructive Testing, Aircraft Frame Structures, Acoustic Emission, Sensor Antenna, General Regression Neural Network.\n"
     ]
    },
    {
     "name": "stderr",
     "output_type": "stream",
     "text": [
      "Setting `pad_token_id` to `eos_token_id`:128001 for open-end generation.\n"
     ]
    },
    {
     "name": "stdout",
     "output_type": "stream",
     "text": [
      "**Title:** Enhanced Signal Detection and Analysis for White Dwarf Binaries using Coherent and Markov Chain Monte Carlo Approaches\n",
      "\n",
      "**Abstract:**\n",
      "\n",
      "We present a comprehensive analysis of selected single-source data sets from the first round of the Mock LISA Data Challenges (MLDC) for white dwarf binaries. Our implementation consists of a grid-based coherent pre-processing unit for signal detection and an automatic Markov Chain Monte Carlo (MCMC) post-processing unit for signal evaluation. We demonstrate the efficacy of our approach in securing and accurately detecting signals, supplemented with additional information on signal parameters and noise level determination.\n",
      "\n",
      "**Introduction:**\n",
      "\n",
      "LISA (Laser Interferometer Space Antenna) is a future space-based gravitational wave observatory designed to detect minute gravitational waves produced by merging binary black hole systems. The MLDC challenges provide a platform for testing and evaluating the performance of LISA's instrument and analysis pipelines. In this study, we focus on white dwarf binaries, which are a crucial component of binary black hole systems.\n",
      "\n",
      "**Methods:**\n",
      "\n",
      "Our approach involves the following steps:\n",
      "\n",
      "1. **Coherent Pre-processing:** We developed a grid-based coherent pre-processing unit to detect signals from the MLDC data sets. This unit applies various filters and algorithms to enhance signal quality and reduce noise.\n",
      "2. **Markov Chain Monte Carlo (MCMC) Post-processing:** We implemented an MCMC routine to evaluate signal parameters, such as signal amplitudes and phases, and to determine the noise level in\n"
     ]
    },
    {
     "name": "stderr",
     "output_type": "stream",
     "text": [
      "Setting `pad_token_id` to `eos_token_id`:128001 for open-end generation.\n"
     ]
    },
    {
     "name": "stdout",
     "output_type": "stream",
     "text": [
      "Title: Classification of Smooth Fano d-Polytopes for Any Given d\n",
      "\n",
      "Abstract:\n",
      "\n",
      "We introduce a novel algorithm for classifying smooth Fano d-polytopes, which enables the determination of the number of isomorphism classes for any given degree d. Our approach leverages the computational power of computers to efficiently generate and enumerate the isomorphism classes of smooth Fano d-polytopes for d ≤ 7.\n",
      "\n",
      "Our algorithm takes as input a single number, representing the degree d, and produces a classification list of smooth Fano d-polytopes. By utilizing a combination of computational methods and mathematical insights, we have been able to classify smooth Fano 6-polytopes and 7-polytopes, yielding 7622 and 72256 isomorphism classes, respectively.\n",
      "\n",
      "Our findings demonstrate the efficacy of our algorithm in accurately determining the number of isomorphism classes for smooth Fano d-polytopes, providing a valuable tool for researchers and mathematicians in the field. This breakthrough has significant implications for our understanding of the structure and diversity of smooth Fano polytopes, and we believe that our algorithm has far-reaching applications in various fields, including physics, computer science, and mathematics.\n",
      "\n",
      "Key contributions:\n",
      "\n",
      "1. Development of a novel algorithm for classifying smooth Fano d-polytopes.\n",
      "2. Efficient generation and enumeration of isomorphism classes for d ≤ 7.\n",
      "3. Identification of 7622 isomorphism\n"
     ]
    }
   ],
   "source": [
    "r_l, p_l, generated_abs_l = teste_model(abstracts[:50], tokenizer, model)"
   ]
  },
  {
   "cell_type": "code",
   "execution_count": 51,
   "metadata": {
    "colab": {
     "base_uri": "https://localhost:8080/"
    },
    "id": "g10mWRwU9KjP",
    "outputId": "6f8240aa-2b8b-4044-ea1d-1d0562c4d255"
   },
   "outputs": [
    {
     "name": "stdout",
     "output_type": "stream",
     "text": [
      "{'rouge1': 0.5377852716512135, 'rouge2': 0.3844631471360215, 'rougeL': 0.4334586808555334, 'rougeLsum': 0.5175961219307337}\n",
      "6.041703519821167\n"
     ]
    }
   ],
   "source": [
    "print(r_l)\n",
    "print(p_l)"
   ]
  },
  {
   "cell_type": "markdown",
   "metadata": {
    "id": "glNmTPGpoi6q"
   },
   "source": [
    "## **Results**"
   ]
  },
  {
   "cell_type": "markdown",
   "metadata": {
    "id": "l0r3d1TzU_qz"
   },
   "source": [
    "#### **ROUGE and Perplexity metrics**"
   ]
  },
  {
   "cell_type": "markdown",
   "metadata": {
    "id": "OcFTDjbJVFco"
   },
   "source": [
    "- **Rouge** :\n",
    "  - **ROUGE-1**: Measures the overlap of unique words, allowing us to assess how relevant the generated abstract is in relation to the original.\n",
    "  - **ROUGE-2**: Captures similarity in terms of word pairs, which is important for maintaining the fluency and context of the text.\n",
    "  - **ROUGE-L**: Evaluates the sequential structure, ensuring that the word order in the generated text resembles the original, which is crucial for readability.\n",
    "  - **ROUGE-Lsum**: Emphasizes summary quality, helping to assess whether the expanded abstract maintains its cohesion and semantic integrity.\n",
    "- **Perplexity**: Evaluates the model's confidence in the sequence of generated words. Low perplexity indicates more natural and cohesive abstracts, while high perplexity can lead to confusing text, which is undesirable in an academic article.\n"
   ]
  },
  {
   "cell_type": "code",
   "execution_count": null,
   "metadata": {
    "colab": {
     "base_uri": "https://localhost:8080/",
     "height": 268
    },
    "id": "vFWLsUImrpn6",
    "outputId": "805a2fbf-bd6c-4d89-eac9-3c101ff77970"
   },
   "outputs": [
    {
     "data": {
      "image/png": "[encoded data removed]",
      "text/plain": [
       "<Figure size 500x300 with 1 Axes>"
      ]
     },
     "metadata": {},
     "output_type": "display_data"
    }
   ],
   "source": [
    "data = [\n",
    "    [\"\", \"Rouge-1\", \"Rouge-2\", \"Rouge-L\", \"Rouge-Lsum\", \"Perprexity\"], \n",
    "    [\"Llama3.2 1B Instruct\", 53.78, 38.45, 43.35, 51.76, 6.04],\n",
    "]\n",
    "\n",
    "fig, ax = plt.subplots(figsize=(5, 3))\n",
    "ax.axis(\"off\")  \n",
    "\n",
    "table = ax.table(cellText=data, loc=\"center\", cellLoc=\"center\", colLoc=\"center\")\n",
    "\n",
    "table.auto_set_font_size(False)\n",
    "table.set_fontsize(8)\n",
    "table.scale(2.5, 1.5)\n",
    "\n",
    "plt.show()"
   ]
  },
  {
   "cell_type": "markdown",
   "metadata": {
    "id": "L7sPhQlgnEf-"
   },
   "source": [
    "For the task of expanding abstracts, these results indicate that the Llama3.2 1B Instruct model offers a good balance between lexical accuracy (captured by Rouge scores) and fluency (reflected by perplexity). The Rouge-1 and Rouge-Lsum values suggest that it preserves many key points from the original text, while the low perplexity indicates that the output is coherent and suitable for the academic context."
   ]
  }
 ],
 "metadata": {
  "accelerator": "GPU",
  "colab": {
   "gpuType": "T4",
   "provenance": []
  },
  "kernelspec": {
   "display_name": "Python 3 (ipykernel)",
   "language": "python",
   "name": "python3"
  },
  "language_info": {
   "codemirror_mode": {
    "name": "ipython",
    "version": 3
   },
   "file_extension": ".py",
   "mimetype": "text/x-python",
   "name": "python",
   "nbconvert_exporter": "python",
   "pygments_lexer": "ipython3",
   "version": "3.10.2"
  },
  "widgets": {
   "application/vnd.jupyter.widget-state+json": {
    "00ef72487626462a91647acffbe1bc43": {
     "model_module": "@jupyter-widgets/base",
     "model_module_version": "1.2.0",
     "model_name": "LayoutModel",
     "state": {
      "_model_module": "@jupyter-widgets/base",
      "_model_module_version": "1.2.0",
      "_model_name": "LayoutModel",
      "_view_count": null,
      "_view_module": "@jupyter-widgets/base",
      "_view_module_version": "1.2.0",
      "_view_name": "LayoutView",
      "align_content": null,
      "align_items": null,
      "align_self": null,
      "border": null,
      "bottom": null,
      "display": null,
      "flex": null,
      "flex_flow": null,
      "grid_area": null,
      "grid_auto_columns": null,
      "grid_auto_flow": null,
      "grid_auto_rows": null,
      "grid_column": null,
      "grid_gap": null,
      "grid_row": null,
      "grid_template_areas": null,
      "grid_template_columns": null,
      "grid_template_rows": null,
      "height": null,
      "justify_content": null,
      "justify_items": null,
      "left": null,
      "margin": null,
      "max_height": null,
      "max_width": null,
      "min_height": null,
      "min_width": null,
      "object_fit": null,
      "object_position": null,
      "order": null,
      "overflow": null,
      "overflow_x": null,
      "overflow_y": null,
      "padding": null,
      "right": null,
      "top": null,
      "visibility": null,
      "width": null
     }
    },
    "04e21b539f444f319c5adb95f2bd3137": {
     "model_module": "@jupyter-widgets/controls",
     "model_module_version": "1.5.0",
     "model_name": "HBoxModel",
     "state": {
      "_dom_classes": [],
      "_model_module": "@jupyter-widgets/controls",
      "_model_module_version": "1.5.0",
      "_model_name": "HBoxModel",
      "_view_count": null,
      "_view_module": "@jupyter-widgets/controls",
      "_view_module_version": "1.5.0",
      "_view_name": "HBoxView",
      "box_style": "",
      "children": [
       "IPY_MODEL_1b9a843a3c7641c88c62b171c51cdc17",
       "IPY_MODEL_797a8de579074339afffdf967193813c",
       "IPY_MODEL_fcc360920c024efbba0f13d24b96e6bb"
      ],
      "layout": "IPY_MODEL_4a55554b5b5441b99ee0075b9072c1e1"
     }
    },
    "09e905783f2241778cfccc27f8afbcac": {
     "model_module": "@jupyter-widgets/base",
     "model_module_version": "1.2.0",
     "model_name": "LayoutModel",
     "state": {
      "_model_module": "@jupyter-widgets/base",
      "_model_module_version": "1.2.0",
      "_model_name": "LayoutModel",
      "_view_count": null,
      "_view_module": "@jupyter-widgets/base",
      "_view_module_version": "1.2.0",
      "_view_name": "LayoutView",
      "align_content": null,
      "align_items": null,
      "align_self": null,
      "border": null,
      "bottom": null,
      "display": null,
      "flex": null,
      "flex_flow": null,
      "grid_area": null,
      "grid_auto_columns": null,
      "grid_auto_flow": null,
      "grid_auto_rows": null,
      "grid_column": null,
      "grid_gap": null,
      "grid_row": null,
      "grid_template_areas": null,
      "grid_template_columns": null,
      "grid_template_rows": null,
      "height": null,
      "justify_content": null,
      "justify_items": null,
      "left": null,
      "margin": null,
      "max_height": null,
      "max_width": null,
      "min_height": null,
      "min_width": null,
      "object_fit": null,
      "object_position": null,
      "order": null,
      "overflow": null,
      "overflow_x": null,
      "overflow_y": null,
      "padding": null,
      "right": null,
      "top": null,
      "visibility": null,
      "width": null
     }
    },
    "0c0d6d8f1e7a42f29c94933336acb11a": {
     "model_module": "@jupyter-widgets/controls",
     "model_module_version": "1.5.0",
     "model_name": "HBoxModel",
     "state": {
      "_dom_classes": [],
      "_model_module": "@jupyter-widgets/controls",
      "_model_module_version": "1.5.0",
      "_model_name": "HBoxModel",
      "_view_count": null,
      "_view_module": "@jupyter-widgets/controls",
      "_view_module_version": "1.5.0",
      "_view_name": "HBoxView",
      "box_style": "",
      "children": [
       "IPY_MODEL_cde5cfd5fce54cbca649e3efcdfa148a",
       "IPY_MODEL_4e0fea546b3647d1ab97cbb2f50a1347",
       "IPY_MODEL_b9e836f2ecc94ac2a45b22e9a6b5d304"
      ],
      "layout": "IPY_MODEL_b174b058b77e46eeb1d6dfd0ae9acf72"
     }
    },
    "0dcd1ae7fe364453850af3cad289ff28": {
     "model_module": "@jupyter-widgets/controls",
     "model_module_version": "1.5.0",
     "model_name": "FloatProgressModel",
     "state": {
      "_dom_classes": [],
      "_model_module": "@jupyter-widgets/controls",
      "_model_module_version": "1.5.0",
      "_model_name": "FloatProgressModel",
      "_view_count": null,
      "_view_module": "@jupyter-widgets/controls",
      "_view_module_version": "1.5.0",
      "_view_name": "ProgressView",
      "bar_style": "success",
      "description": "",
      "description_tooltip": null,
      "layout": "IPY_MODEL_f6c8345a484e4733b4666259b3fb42c8",
      "max": 6755,
      "min": 0,
      "orientation": "horizontal",
      "style": "IPY_MODEL_582e610ee84048659014add242aa5bb6",
      "value": 6755
     }
    },
    "111edf188c43426d938667458dcfec2a": {
     "model_module": "@jupyter-widgets/base",
     "model_module_version": "1.2.0",
     "model_name": "LayoutModel",
     "state": {
      "_model_module": "@jupyter-widgets/base",
      "_model_module_version": "1.2.0",
      "_model_name": "LayoutModel",
      "_view_count": null,
      "_view_module": "@jupyter-widgets/base",
      "_view_module_version": "1.2.0",
      "_view_name": "LayoutView",
      "align_content": null,
      "align_items": null,
      "align_self": null,
      "border": null,
      "bottom": null,
      "display": null,
      "flex": null,
      "flex_flow": null,
      "grid_area": null,
      "grid_auto_columns": null,
      "grid_auto_flow": null,
      "grid_auto_rows": null,
      "grid_column": null,
      "grid_gap": null,
      "grid_row": null,
      "grid_template_areas": null,
      "grid_template_columns": null,
      "grid_template_rows": null,
      "height": null,
      "justify_content": null,
      "justify_items": null,
      "left": null,
      "margin": null,
      "max_height": null,
      "max_width": null,
      "min_height": null,
      "min_width": null,
      "object_fit": null,
      "object_position": null,
      "order": null,
      "overflow": null,
      "overflow_x": null,
      "overflow_y": null,
      "padding": null,
      "right": null,
      "top": null,
      "visibility": null,
      "width": null
     }
    },
    "14c12d2d95b14f54ab0c4cc8ef0b223c": {
     "model_module": "@jupyter-widgets/controls",
     "model_module_version": "1.5.0",
     "model_name": "DescriptionStyleModel",
     "state": {
      "_model_module": "@jupyter-widgets/controls",
      "_model_module_version": "1.5.0",
      "_model_name": "DescriptionStyleModel",
      "_view_count": null,
      "_view_module": "@jupyter-widgets/base",
      "_view_module_version": "1.2.0",
      "_view_name": "StyleView",
      "description_width": ""
     }
    },
    "1a10f5053c56423c80804db09a5b80b7": {
     "model_module": "@jupyter-widgets/base",
     "model_module_version": "1.2.0",
     "model_name": "LayoutModel",
     "state": {
      "_model_module": "@jupyter-widgets/base",
      "_model_module_version": "1.2.0",
      "_model_name": "LayoutModel",
      "_view_count": null,
      "_view_module": "@jupyter-widgets/base",
      "_view_module_version": "1.2.0",
      "_view_name": "LayoutView",
      "align_content": null,
      "align_items": null,
      "align_self": null,
      "border": null,
      "bottom": null,
      "display": null,
      "flex": null,
      "flex_flow": null,
      "grid_area": null,
      "grid_auto_columns": null,
      "grid_auto_flow": null,
      "grid_auto_rows": null,
      "grid_column": null,
      "grid_gap": null,
      "grid_row": null,
      "grid_template_areas": null,
      "grid_template_columns": null,
      "grid_template_rows": null,
      "height": null,
      "justify_content": null,
      "justify_items": null,
      "left": null,
      "margin": null,
      "max_height": null,
      "max_width": null,
      "min_height": null,
      "min_width": null,
      "object_fit": null,
      "object_position": null,
      "order": null,
      "overflow": null,
      "overflow_x": null,
      "overflow_y": null,
      "padding": null,
      "right": null,
      "top": null,
      "visibility": null,
      "width": null
     }
    },
    "1b9a843a3c7641c88c62b171c51cdc17": {
     "model_module": "@jupyter-widgets/controls",
     "model_module_version": "1.5.0",
     "model_name": "HTMLModel",
     "state": {
      "_dom_classes": [],
      "_model_module": "@jupyter-widgets/controls",
      "_model_module_version": "1.5.0",
      "_model_name": "HTMLModel",
      "_view_count": null,
      "_view_module": "@jupyter-widgets/controls",
      "_view_module_version": "1.5.0",
      "_view_name": "HTMLView",
      "description": "",
      "description_tooltip": null,
      "layout": "IPY_MODEL_1a10f5053c56423c80804db09a5b80b7",
      "placeholder": "​",
      "style": "IPY_MODEL_5c230378d90e4d3ea8cabf5d5063768d",
      "value": "model.safetensors: 100%"
     }
    },
    "1bc8447007d24015812aeab4300aabd2": {
     "model_module": "@jupyter-widgets/base",
     "model_module_version": "1.2.0",
     "model_name": "LayoutModel",
     "state": {
      "_model_module": "@jupyter-widgets/base",
      "_model_module_version": "1.2.0",
      "_model_name": "LayoutModel",
      "_view_count": null,
      "_view_module": "@jupyter-widgets/base",
      "_view_module_version": "1.2.0",
      "_view_name": "LayoutView",
      "align_content": null,
      "align_items": null,
      "align_self": null,
      "border": null,
      "bottom": null,
      "display": null,
      "flex": null,
      "flex_flow": null,
      "grid_area": null,
      "grid_auto_columns": null,
      "grid_auto_flow": null,
      "grid_auto_rows": null,
      "grid_column": null,
      "grid_gap": null,
      "grid_row": null,
      "grid_template_areas": null,
      "grid_template_columns": null,
      "grid_template_rows": null,
      "height": null,
      "justify_content": null,
      "justify_items": null,
      "left": null,
      "margin": null,
      "max_height": null,
      "max_width": null,
      "min_height": null,
      "min_width": null,
      "object_fit": null,
      "object_position": null,
      "order": null,
      "overflow": null,
      "overflow_x": null,
      "overflow_y": null,
      "padding": null,
      "right": null,
      "top": null,
      "visibility": null,
      "width": null
     }
    },
    "1be0ebe2da9045a0b48b78be10696fd1": {
     "model_module": "@jupyter-widgets/controls",
     "model_module_version": "1.5.0",
     "model_name": "ProgressStyleModel",
     "state": {
      "_model_module": "@jupyter-widgets/controls",
      "_model_module_version": "1.5.0",
      "_model_name": "ProgressStyleModel",
      "_view_count": null,
      "_view_module": "@jupyter-widgets/base",
      "_view_module_version": "1.2.0",
      "_view_name": "StyleView",
      "bar_color": null,
      "description_width": ""
     }
    },
    "1e4552c980604108a6f6b6c27c7cca19": {
     "model_module": "@jupyter-widgets/controls",
     "model_module_version": "1.5.0",
     "model_name": "ProgressStyleModel",
     "state": {
      "_model_module": "@jupyter-widgets/controls",
      "_model_module_version": "1.5.0",
      "_model_name": "ProgressStyleModel",
      "_view_count": null,
      "_view_module": "@jupyter-widgets/base",
      "_view_module_version": "1.2.0",
      "_view_name": "StyleView",
      "bar_color": null,
      "description_width": ""
     }
    },
    "1f3e9fc33155482bb79419047009b0ed": {
     "model_module": "@jupyter-widgets/controls",
     "model_module_version": "1.5.0",
     "model_name": "HTMLModel",
     "state": {
      "_dom_classes": [],
      "_model_module": "@jupyter-widgets/controls",
      "_model_module_version": "1.5.0",
      "_model_name": "HTMLModel",
      "_view_count": null,
      "_view_module": "@jupyter-widgets/controls",
      "_view_module_version": "1.5.0",
      "_view_name": "HTMLView",
      "description": "",
      "description_tooltip": null,
      "layout": "IPY_MODEL_7dfac269468f4d88b954c3050fa0749a",
      "placeholder": "​",
      "style": "IPY_MODEL_14c12d2d95b14f54ab0c4cc8ef0b223c",
      "value": "generation_config.json: 100%"
     }
    },
    "360476176f164b978c67bb45690fdbdf": {
     "model_module": "@jupyter-widgets/controls",
     "model_module_version": "1.5.0",
     "model_name": "HBoxModel",
     "state": {
      "_dom_classes": [],
      "_model_module": "@jupyter-widgets/controls",
      "_model_module_version": "1.5.0",
      "_model_name": "HBoxModel",
      "_view_count": null,
      "_view_module": "@jupyter-widgets/controls",
      "_view_module_version": "1.5.0",
      "_view_name": "HBoxView",
      "box_style": "",
      "children": [
       "IPY_MODEL_b77673a10f254d84bda727f1622a0268",
       "IPY_MODEL_f6491a77cb414f15adf30eb2b0b3eae0",
       "IPY_MODEL_acfee1d91aea4f51bad7f16e00c7865d"
      ],
      "layout": "IPY_MODEL_8c08fdea14d9483db50117fc25e6b10c"
     }
    },
    "43bdc52d062f41f1bbe1819c4023e067": {
     "model_module": "@jupyter-widgets/controls",
     "model_module_version": "1.5.0",
     "model_name": "HTMLModel",
     "state": {
      "_dom_classes": [],
      "_model_module": "@jupyter-widgets/controls",
      "_model_module_version": "1.5.0",
      "_model_name": "HTMLModel",
      "_view_count": null,
      "_view_module": "@jupyter-widgets/controls",
      "_view_module_version": "1.5.0",
      "_view_name": "HTMLView",
      "description": "",
      "description_tooltip": null,
      "layout": "IPY_MODEL_ac5233d08c604d5cbfcbf8842aa07bed",
      "placeholder": "​",
      "style": "IPY_MODEL_abcee38e269a48f0bfb1ed6ecb90d78d",
      "value": " 877/877 [00:00&lt;00:00, 52.3kB/s]"
     }
    },
    "447fd5654d114b1ca077e697695be087": {
     "model_module": "@jupyter-widgets/base",
     "model_module_version": "1.2.0",
     "model_name": "LayoutModel",
     "state": {
      "_model_module": "@jupyter-widgets/base",
      "_model_module_version": "1.2.0",
      "_model_name": "LayoutModel",
      "_view_count": null,
      "_view_module": "@jupyter-widgets/base",
      "_view_module_version": "1.2.0",
      "_view_name": "LayoutView",
      "align_content": null,
      "align_items": null,
      "align_self": null,
      "border": null,
      "bottom": null,
      "display": null,
      "flex": null,
      "flex_flow": null,
      "grid_area": null,
      "grid_auto_columns": null,
      "grid_auto_flow": null,
      "grid_auto_rows": null,
      "grid_column": null,
      "grid_gap": null,
      "grid_row": null,
      "grid_template_areas": null,
      "grid_template_columns": null,
      "grid_template_rows": null,
      "height": null,
      "justify_content": null,
      "justify_items": null,
      "left": null,
      "margin": null,
      "max_height": null,
      "max_width": null,
      "min_height": null,
      "min_width": null,
      "object_fit": null,
      "object_position": null,
      "order": null,
      "overflow": null,
      "overflow_x": null,
      "overflow_y": null,
      "padding": null,
      "right": null,
      "top": null,
      "visibility": null,
      "width": null
     }
    },
    "46cefd0f195a443a86447d1634bb1093": {
     "model_module": "@jupyter-widgets/controls",
     "model_module_version": "1.5.0",
     "model_name": "HTMLModel",
     "state": {
      "_dom_classes": [],
      "_model_module": "@jupyter-widgets/controls",
      "_model_module_version": "1.5.0",
      "_model_name": "HTMLModel",
      "_view_count": null,
      "_view_module": "@jupyter-widgets/controls",
      "_view_module_version": "1.5.0",
      "_view_name": "HTMLView",
      "description": "",
      "description_tooltip": null,
      "layout": "IPY_MODEL_da0673b502ae4c80abfb15da9da07736",
      "placeholder": "​",
      "style": "IPY_MODEL_f6594f3166d5444bb6d71c995145c192",
      "value": " 6.75k/6.75k [00:00&lt;00:00, 138kB/s]"
     }
    },
    "4a55554b5b5441b99ee0075b9072c1e1": {
     "model_module": "@jupyter-widgets/base",
     "model_module_version": "1.2.0",
     "model_name": "LayoutModel",
     "state": {
      "_model_module": "@jupyter-widgets/base",
      "_model_module_version": "1.2.0",
      "_model_name": "LayoutModel",
      "_view_count": null,
      "_view_module": "@jupyter-widgets/base",
      "_view_module_version": "1.2.0",
      "_view_name": "LayoutView",
      "align_content": null,
      "align_items": null,
      "align_self": null,
      "border": null,
      "bottom": null,
      "display": null,
      "flex": null,
      "flex_flow": null,
      "grid_area": null,
      "grid_auto_columns": null,
      "grid_auto_flow": null,
      "grid_auto_rows": null,
      "grid_column": null,
      "grid_gap": null,
      "grid_row": null,
      "grid_template_areas": null,
      "grid_template_columns": null,
      "grid_template_rows": null,
      "height": null,
      "justify_content": null,
      "justify_items": null,
      "left": null,
      "margin": null,
      "max_height": null,
      "max_width": null,
      "min_height": null,
      "min_width": null,
      "object_fit": null,
      "object_position": null,
      "order": null,
      "overflow": null,
      "overflow_x": null,
      "overflow_y": null,
      "padding": null,
      "right": null,
      "top": null,
      "visibility": null,
      "width": null
     }
    },
    "4e0fea546b3647d1ab97cbb2f50a1347": {
     "model_module": "@jupyter-widgets/controls",
     "model_module_version": "1.5.0",
     "model_name": "FloatProgressModel",
     "state": {
      "_dom_classes": [],
      "_model_module": "@jupyter-widgets/controls",
      "_model_module_version": "1.5.0",
      "_model_name": "FloatProgressModel",
      "_view_count": null,
      "_view_module": "@jupyter-widgets/controls",
      "_view_module_version": "1.5.0",
      "_view_name": "ProgressView",
      "bar_style": "success",
      "description": "",
      "description_tooltip": null,
      "layout": "IPY_MODEL_81c2d0913a644b62a992d9259dc40833",
      "max": 1999486,
      "min": 0,
      "orientation": "horizontal",
      "style": "IPY_MODEL_1be0ebe2da9045a0b48b78be10696fd1",
      "value": 1999486
     }
    },
    "582e610ee84048659014add242aa5bb6": {
     "model_module": "@jupyter-widgets/controls",
     "model_module_version": "1.5.0",
     "model_name": "ProgressStyleModel",
     "state": {
      "_model_module": "@jupyter-widgets/controls",
      "_model_module_version": "1.5.0",
      "_model_name": "ProgressStyleModel",
      "_view_count": null,
      "_view_module": "@jupyter-widgets/base",
      "_view_module_version": "1.2.0",
      "_view_name": "StyleView",
      "bar_color": null,
      "description_width": ""
     }
    },
    "594490f4db2a4b209c3a504ae4f4971d": {
     "model_module": "@jupyter-widgets/controls",
     "model_module_version": "1.5.0",
     "model_name": "ProgressStyleModel",
     "state": {
      "_model_module": "@jupyter-widgets/controls",
      "_model_module_version": "1.5.0",
      "_model_name": "ProgressStyleModel",
      "_view_count": null,
      "_view_module": "@jupyter-widgets/base",
      "_view_module_version": "1.2.0",
      "_view_name": "StyleView",
      "bar_color": null,
      "description_width": ""
     }
    },
    "5c230378d90e4d3ea8cabf5d5063768d": {
     "model_module": "@jupyter-widgets/controls",
     "model_module_version": "1.5.0",
     "model_name": "DescriptionStyleModel",
     "state": {
      "_model_module": "@jupyter-widgets/controls",
      "_model_module_version": "1.5.0",
      "_model_name": "DescriptionStyleModel",
      "_view_count": null,
      "_view_module": "@jupyter-widgets/base",
      "_view_module_version": "1.2.0",
      "_view_name": "StyleView",
      "description_width": ""
     }
    },
    "60faebd69b424e1c8c3b5e57d7b316d5": {
     "model_module": "@jupyter-widgets/controls",
     "model_module_version": "1.5.0",
     "model_name": "DescriptionStyleModel",
     "state": {
      "_model_module": "@jupyter-widgets/controls",
      "_model_module_version": "1.5.0",
      "_model_name": "DescriptionStyleModel",
      "_view_count": null,
      "_view_module": "@jupyter-widgets/base",
      "_view_module_version": "1.2.0",
      "_view_name": "StyleView",
      "description_width": ""
     }
    },
    "6207dd74d762462b85eacd54a8e00cb3": {
     "model_module": "@jupyter-widgets/base",
     "model_module_version": "1.2.0",
     "model_name": "LayoutModel",
     "state": {
      "_model_module": "@jupyter-widgets/base",
      "_model_module_version": "1.2.0",
      "_model_name": "LayoutModel",
      "_view_count": null,
      "_view_module": "@jupyter-widgets/base",
      "_view_module_version": "1.2.0",
      "_view_name": "LayoutView",
      "align_content": null,
      "align_items": null,
      "align_self": null,
      "border": null,
      "bottom": null,
      "display": null,
      "flex": null,
      "flex_flow": null,
      "grid_area": null,
      "grid_auto_columns": null,
      "grid_auto_flow": null,
      "grid_auto_rows": null,
      "grid_column": null,
      "grid_gap": null,
      "grid_row": null,
      "grid_template_areas": null,
      "grid_template_columns": null,
      "grid_template_rows": null,
      "height": null,
      "justify_content": null,
      "justify_items": null,
      "left": null,
      "margin": null,
      "max_height": null,
      "max_width": null,
      "min_height": null,
      "min_width": null,
      "object_fit": null,
      "object_position": null,
      "order": null,
      "overflow": null,
      "overflow_x": null,
      "overflow_y": null,
      "padding": null,
      "right": null,
      "top": null,
      "visibility": null,
      "width": null
     }
    },
    "62472c8c971c44e9a139b79b1d7d36c8": {
     "model_module": "@jupyter-widgets/controls",
     "model_module_version": "1.5.0",
     "model_name": "DescriptionStyleModel",
     "state": {
      "_model_module": "@jupyter-widgets/controls",
      "_model_module_version": "1.5.0",
      "_model_name": "DescriptionStyleModel",
      "_view_count": null,
      "_view_module": "@jupyter-widgets/base",
      "_view_module_version": "1.2.0",
      "_view_name": "StyleView",
      "description_width": ""
     }
    },
    "625921b078f141b688e17e983df6956e": {
     "model_module": "@jupyter-widgets/controls",
     "model_module_version": "1.5.0",
     "model_name": "HBoxModel",
     "state": {
      "_dom_classes": [],
      "_model_module": "@jupyter-widgets/controls",
      "_model_module_version": "1.5.0",
      "_model_name": "HBoxModel",
      "_view_count": null,
      "_view_module": "@jupyter-widgets/controls",
      "_view_module_version": "1.5.0",
      "_view_name": "HBoxView",
      "box_style": "",
      "children": [
       "IPY_MODEL_1f3e9fc33155482bb79419047009b0ed",
       "IPY_MODEL_6b52ce420b94476dbe635d1625e7c36e",
       "IPY_MODEL_8cf3a930bd40469f805939e20b6102ef"
      ],
      "layout": "IPY_MODEL_dec8c3f02a1f40c49ec4a027aac68c02"
     }
    },
    "62b3c5936d8142ea932b272bbd7ec3c8": {
     "model_module": "@jupyter-widgets/base",
     "model_module_version": "1.2.0",
     "model_name": "LayoutModel",
     "state": {
      "_model_module": "@jupyter-widgets/base",
      "_model_module_version": "1.2.0",
      "_model_name": "LayoutModel",
      "_view_count": null,
      "_view_module": "@jupyter-widgets/base",
      "_view_module_version": "1.2.0",
      "_view_name": "LayoutView",
      "align_content": null,
      "align_items": null,
      "align_self": null,
      "border": null,
      "bottom": null,
      "display": null,
      "flex": null,
      "flex_flow": null,
      "grid_area": null,
      "grid_auto_columns": null,
      "grid_auto_flow": null,
      "grid_auto_rows": null,
      "grid_column": null,
      "grid_gap": null,
      "grid_row": null,
      "grid_template_areas": null,
      "grid_template_columns": null,
      "grid_template_rows": null,
      "height": null,
      "justify_content": null,
      "justify_items": null,
      "left": null,
      "margin": null,
      "max_height": null,
      "max_width": null,
      "min_height": null,
      "min_width": null,
      "object_fit": null,
      "object_position": null,
      "order": null,
      "overflow": null,
      "overflow_x": null,
      "overflow_y": null,
      "padding": null,
      "right": null,
      "top": null,
      "visibility": null,
      "width": null
     }
    },
    "6b4b6ac5c5f44a8f893318e92e67d3a4": {
     "model_module": "@jupyter-widgets/base",
     "model_module_version": "1.2.0",
     "model_name": "LayoutModel",
     "state": {
      "_model_module": "@jupyter-widgets/base",
      "_model_module_version": "1.2.0",
      "_model_name": "LayoutModel",
      "_view_count": null,
      "_view_module": "@jupyter-widgets/base",
      "_view_module_version": "1.2.0",
      "_view_name": "LayoutView",
      "align_content": null,
      "align_items": null,
      "align_self": null,
      "border": null,
      "bottom": null,
      "display": null,
      "flex": null,
      "flex_flow": null,
      "grid_area": null,
      "grid_auto_columns": null,
      "grid_auto_flow": null,
      "grid_auto_rows": null,
      "grid_column": null,
      "grid_gap": null,
      "grid_row": null,
      "grid_template_areas": null,
      "grid_template_columns": null,
      "grid_template_rows": null,
      "height": null,
      "justify_content": null,
      "justify_items": null,
      "left": null,
      "margin": null,
      "max_height": null,
      "max_width": null,
      "min_height": null,
      "min_width": null,
      "object_fit": null,
      "object_position": null,
      "order": null,
      "overflow": null,
      "overflow_x": null,
      "overflow_y": null,
      "padding": null,
      "right": null,
      "top": null,
      "visibility": null,
      "width": null
     }
    },
    "6b52ce420b94476dbe635d1625e7c36e": {
     "model_module": "@jupyter-widgets/controls",
     "model_module_version": "1.5.0",
     "model_name": "FloatProgressModel",
     "state": {
      "_dom_classes": [],
      "_model_module": "@jupyter-widgets/controls",
      "_model_module_version": "1.5.0",
      "_model_name": "FloatProgressModel",
      "_view_count": null,
      "_view_module": "@jupyter-widgets/controls",
      "_view_module_version": "1.5.0",
      "_view_name": "ProgressView",
      "bar_style": "success",
      "description": "",
      "description_tooltip": null,
      "layout": "IPY_MODEL_6207dd74d762462b85eacd54a8e00cb3",
      "max": 189,
      "min": 0,
      "orientation": "horizontal",
      "style": "IPY_MODEL_70a270b3967e4f0a887fb15f43be09fc",
      "value": 189
     }
    },
    "6cb601cf5b4d40d399bf485d4cccb986": {
     "model_module": "@jupyter-widgets/controls",
     "model_module_version": "1.5.0",
     "model_name": "HBoxModel",
     "state": {
      "_dom_classes": [],
      "_model_module": "@jupyter-widgets/controls",
      "_model_module_version": "1.5.0",
      "_model_name": "HBoxModel",
      "_view_count": null,
      "_view_module": "@jupyter-widgets/controls",
      "_view_module_version": "1.5.0",
      "_view_name": "HBoxView",
      "box_style": "",
      "children": [
       "IPY_MODEL_8a0b073afc534ffe86ecaa1b4d7d6611",
       "IPY_MODEL_94b302920b5a4c299eadc26ccece941c",
       "IPY_MODEL_43bdc52d062f41f1bbe1819c4023e067"
      ],
      "layout": "IPY_MODEL_1bc8447007d24015812aeab4300aabd2"
     }
    },
    "70a270b3967e4f0a887fb15f43be09fc": {
     "model_module": "@jupyter-widgets/controls",
     "model_module_version": "1.5.0",
     "model_name": "ProgressStyleModel",
     "state": {
      "_model_module": "@jupyter-widgets/controls",
      "_model_module_version": "1.5.0",
      "_model_name": "ProgressStyleModel",
      "_view_count": null,
      "_view_module": "@jupyter-widgets/base",
      "_view_module_version": "1.2.0",
      "_view_name": "StyleView",
      "bar_color": null,
      "description_width": ""
     }
    },
    "75daff9ae49c4757b33fd49ebaca432e": {
     "model_module": "@jupyter-widgets/controls",
     "model_module_version": "1.5.0",
     "model_name": "DescriptionStyleModel",
     "state": {
      "_model_module": "@jupyter-widgets/controls",
      "_model_module_version": "1.5.0",
      "_model_name": "DescriptionStyleModel",
      "_view_count": null,
      "_view_module": "@jupyter-widgets/base",
      "_view_module_version": "1.2.0",
      "_view_name": "StyleView",
      "description_width": ""
     }
    },
    "79123226615f4a028ab14cf8b2795171": {
     "model_module": "@jupyter-widgets/controls",
     "model_module_version": "1.5.0",
     "model_name": "ProgressStyleModel",
     "state": {
      "_model_module": "@jupyter-widgets/controls",
      "_model_module_version": "1.5.0",
      "_model_name": "ProgressStyleModel",
      "_view_count": null,
      "_view_module": "@jupyter-widgets/base",
      "_view_module_version": "1.2.0",
      "_view_name": "StyleView",
      "bar_color": null,
      "description_width": ""
     }
    },
    "797a8de579074339afffdf967193813c": {
     "model_module": "@jupyter-widgets/controls",
     "model_module_version": "1.5.0",
     "model_name": "FloatProgressModel",
     "state": {
      "_dom_classes": [],
      "_model_module": "@jupyter-widgets/controls",
      "_model_module_version": "1.5.0",
      "_model_name": "FloatProgressModel",
      "_view_count": null,
      "_view_module": "@jupyter-widgets/controls",
      "_view_module_version": "1.5.0",
      "_view_name": "ProgressView",
      "bar_style": "success",
      "description": "",
      "description_tooltip": null,
      "layout": "IPY_MODEL_00ef72487626462a91647acffbe1bc43",
      "max": 2471645608,
      "min": 0,
      "orientation": "horizontal",
      "style": "IPY_MODEL_594490f4db2a4b209c3a504ae4f4971d",
      "value": 2471645608
     }
    },
    "7ac0633f20f94cfda985b6073c86a7ba": {
     "model_module": "@jupyter-widgets/controls",
     "model_module_version": "1.5.0",
     "model_name": "DescriptionStyleModel",
     "state": {
      "_model_module": "@jupyter-widgets/controls",
      "_model_module_version": "1.5.0",
      "_model_name": "DescriptionStyleModel",
      "_view_count": null,
      "_view_module": "@jupyter-widgets/base",
      "_view_module_version": "1.2.0",
      "_view_name": "StyleView",
      "description_width": ""
     }
    },
    "7be7066796b04cbdb795fc6baec8b15a": {
     "model_module": "@jupyter-widgets/controls",
     "model_module_version": "1.5.0",
     "model_name": "DescriptionStyleModel",
     "state": {
      "_model_module": "@jupyter-widgets/controls",
      "_model_module_version": "1.5.0",
      "_model_name": "DescriptionStyleModel",
      "_view_count": null,
      "_view_module": "@jupyter-widgets/base",
      "_view_module_version": "1.2.0",
      "_view_name": "StyleView",
      "description_width": ""
     }
    },
    "7dfac269468f4d88b954c3050fa0749a": {
     "model_module": "@jupyter-widgets/base",
     "model_module_version": "1.2.0",
     "model_name": "LayoutModel",
     "state": {
      "_model_module": "@jupyter-widgets/base",
      "_model_module_version": "1.2.0",
      "_model_name": "LayoutModel",
      "_view_count": null,
      "_view_module": "@jupyter-widgets/base",
      "_view_module_version": "1.2.0",
      "_view_name": "LayoutView",
      "align_content": null,
      "align_items": null,
      "align_self": null,
      "border": null,
      "bottom": null,
      "display": null,
      "flex": null,
      "flex_flow": null,
      "grid_area": null,
      "grid_auto_columns": null,
      "grid_auto_flow": null,
      "grid_auto_rows": null,
      "grid_column": null,
      "grid_gap": null,
      "grid_row": null,
      "grid_template_areas": null,
      "grid_template_columns": null,
      "grid_template_rows": null,
      "height": null,
      "justify_content": null,
      "justify_items": null,
      "left": null,
      "margin": null,
      "max_height": null,
      "max_width": null,
      "min_height": null,
      "min_width": null,
      "object_fit": null,
      "object_position": null,
      "order": null,
      "overflow": null,
      "overflow_x": null,
      "overflow_y": null,
      "padding": null,
      "right": null,
      "top": null,
      "visibility": null,
      "width": null
     }
    },
    "81c2d0913a644b62a992d9259dc40833": {
     "model_module": "@jupyter-widgets/base",
     "model_module_version": "1.2.0",
     "model_name": "LayoutModel",
     "state": {
      "_model_module": "@jupyter-widgets/base",
      "_model_module_version": "1.2.0",
      "_model_name": "LayoutModel",
      "_view_count": null,
      "_view_module": "@jupyter-widgets/base",
      "_view_module_version": "1.2.0",
      "_view_name": "LayoutView",
      "align_content": null,
      "align_items": null,
      "align_self": null,
      "border": null,
      "bottom": null,
      "display": null,
      "flex": null,
      "flex_flow": null,
      "grid_area": null,
      "grid_auto_columns": null,
      "grid_auto_flow": null,
      "grid_auto_rows": null,
      "grid_column": null,
      "grid_gap": null,
      "grid_row": null,
      "grid_template_areas": null,
      "grid_template_columns": null,
      "grid_template_rows": null,
      "height": null,
      "justify_content": null,
      "justify_items": null,
      "left": null,
      "margin": null,
      "max_height": null,
      "max_width": null,
      "min_height": null,
      "min_width": null,
      "object_fit": null,
      "object_position": null,
      "order": null,
      "overflow": null,
      "overflow_x": null,
      "overflow_y": null,
      "padding": null,
      "right": null,
      "top": null,
      "visibility": null,
      "width": null
     }
    },
    "83d7818f33e044aeb9e9c7e281e80d90": {
     "model_module": "@jupyter-widgets/controls",
     "model_module_version": "1.5.0",
     "model_name": "DescriptionStyleModel",
     "state": {
      "_model_module": "@jupyter-widgets/controls",
      "_model_module_version": "1.5.0",
      "_model_name": "DescriptionStyleModel",
      "_view_count": null,
      "_view_module": "@jupyter-widgets/base",
      "_view_module_version": "1.2.0",
      "_view_name": "StyleView",
      "description_width": ""
     }
    },
    "884edecca4634a69af73cdd04a9a28fe": {
     "model_module": "@jupyter-widgets/base",
     "model_module_version": "1.2.0",
     "model_name": "LayoutModel",
     "state": {
      "_model_module": "@jupyter-widgets/base",
      "_model_module_version": "1.2.0",
      "_model_name": "LayoutModel",
      "_view_count": null,
      "_view_module": "@jupyter-widgets/base",
      "_view_module_version": "1.2.0",
      "_view_name": "LayoutView",
      "align_content": null,
      "align_items": null,
      "align_self": null,
      "border": null,
      "bottom": null,
      "display": null,
      "flex": null,
      "flex_flow": null,
      "grid_area": null,
      "grid_auto_columns": null,
      "grid_auto_flow": null,
      "grid_auto_rows": null,
      "grid_column": null,
      "grid_gap": null,
      "grid_row": null,
      "grid_template_areas": null,
      "grid_template_columns": null,
      "grid_template_rows": null,
      "height": null,
      "justify_content": null,
      "justify_items": null,
      "left": null,
      "margin": null,
      "max_height": null,
      "max_width": null,
      "min_height": null,
      "min_width": null,
      "object_fit": null,
      "object_position": null,
      "order": null,
      "overflow": null,
      "overflow_x": null,
      "overflow_y": null,
      "padding": null,
      "right": null,
      "top": null,
      "visibility": null,
      "width": null
     }
    },
    "89781430eb8f4b34a0883fbaee6dbd61": {
     "model_module": "@jupyter-widgets/base",
     "model_module_version": "1.2.0",
     "model_name": "LayoutModel",
     "state": {
      "_model_module": "@jupyter-widgets/base",
      "_model_module_version": "1.2.0",
      "_model_name": "LayoutModel",
      "_view_count": null,
      "_view_module": "@jupyter-widgets/base",
      "_view_module_version": "1.2.0",
      "_view_name": "LayoutView",
      "align_content": null,
      "align_items": null,
      "align_self": null,
      "border": null,
      "bottom": null,
      "display": null,
      "flex": null,
      "flex_flow": null,
      "grid_area": null,
      "grid_auto_columns": null,
      "grid_auto_flow": null,
      "grid_auto_rows": null,
      "grid_column": null,
      "grid_gap": null,
      "grid_row": null,
      "grid_template_areas": null,
      "grid_template_columns": null,
      "grid_template_rows": null,
      "height": null,
      "justify_content": null,
      "justify_items": null,
      "left": null,
      "margin": null,
      "max_height": null,
      "max_width": null,
      "min_height": null,
      "min_width": null,
      "object_fit": null,
      "object_position": null,
      "order": null,
      "overflow": null,
      "overflow_x": null,
      "overflow_y": null,
      "padding": null,
      "right": null,
      "top": null,
      "visibility": null,
      "width": null
     }
    },
    "8a0b073afc534ffe86ecaa1b4d7d6611": {
     "model_module": "@jupyter-widgets/controls",
     "model_module_version": "1.5.0",
     "model_name": "HTMLModel",
     "state": {
      "_dom_classes": [],
      "_model_module": "@jupyter-widgets/controls",
      "_model_module_version": "1.5.0",
      "_model_name": "HTMLModel",
      "_view_count": null,
      "_view_module": "@jupyter-widgets/controls",
      "_view_module_version": "1.5.0",
      "_view_name": "HTMLView",
      "description": "",
      "description_tooltip": null,
      "layout": "IPY_MODEL_111edf188c43426d938667458dcfec2a",
      "placeholder": "​",
      "style": "IPY_MODEL_dc97e6c83e8e4394b9ddcebe90459072",
      "value": "config.json: 100%"
     }
    },
    "8c08fdea14d9483db50117fc25e6b10c": {
     "model_module": "@jupyter-widgets/base",
     "model_module_version": "1.2.0",
     "model_name": "LayoutModel",
     "state": {
      "_model_module": "@jupyter-widgets/base",
      "_model_module_version": "1.2.0",
      "_model_name": "LayoutModel",
      "_view_count": null,
      "_view_module": "@jupyter-widgets/base",
      "_view_module_version": "1.2.0",
      "_view_name": "LayoutView",
      "align_content": null,
      "align_items": null,
      "align_self": null,
      "border": null,
      "bottom": null,
      "display": null,
      "flex": null,
      "flex_flow": null,
      "grid_area": null,
      "grid_auto_columns": null,
      "grid_auto_flow": null,
      "grid_auto_rows": null,
      "grid_column": null,
      "grid_gap": null,
      "grid_row": null,
      "grid_template_areas": null,
      "grid_template_columns": null,
      "grid_template_rows": null,
      "height": null,
      "justify_content": null,
      "justify_items": null,
      "left": null,
      "margin": null,
      "max_height": null,
      "max_width": null,
      "min_height": null,
      "min_width": null,
      "object_fit": null,
      "object_position": null,
      "order": null,
      "overflow": null,
      "overflow_x": null,
      "overflow_y": null,
      "padding": null,
      "right": null,
      "top": null,
      "visibility": null,
      "width": null
     }
    },
    "8cf3a930bd40469f805939e20b6102ef": {
     "model_module": "@jupyter-widgets/controls",
     "model_module_version": "1.5.0",
     "model_name": "HTMLModel",
     "state": {
      "_dom_classes": [],
      "_model_module": "@jupyter-widgets/controls",
      "_model_module_version": "1.5.0",
      "_model_name": "HTMLModel",
      "_view_count": null,
      "_view_module": "@jupyter-widgets/controls",
      "_view_module_version": "1.5.0",
      "_view_name": "HTMLView",
      "description": "",
      "description_tooltip": null,
      "layout": "IPY_MODEL_09e905783f2241778cfccc27f8afbcac",
      "placeholder": "​",
      "style": "IPY_MODEL_75daff9ae49c4757b33fd49ebaca432e",
      "value": " 189/189 [00:00&lt;00:00, 8.61kB/s]"
     }
    },
    "94b302920b5a4c299eadc26ccece941c": {
     "model_module": "@jupyter-widgets/controls",
     "model_module_version": "1.5.0",
     "model_name": "FloatProgressModel",
     "state": {
      "_dom_classes": [],
      "_model_module": "@jupyter-widgets/controls",
      "_model_module_version": "1.5.0",
      "_model_name": "FloatProgressModel",
      "_view_count": null,
      "_view_module": "@jupyter-widgets/controls",
      "_view_module_version": "1.5.0",
      "_view_name": "ProgressView",
      "bar_style": "success",
      "description": "",
      "description_tooltip": null,
      "layout": "IPY_MODEL_62b3c5936d8142ea932b272bbd7ec3c8",
      "max": 877,
      "min": 0,
      "orientation": "horizontal",
      "style": "IPY_MODEL_1e4552c980604108a6f6b6c27c7cca19",
      "value": 877
     }
    },
    "aaba452d0d714f6d81781922c5d9276b": {
     "model_module": "@jupyter-widgets/controls",
     "model_module_version": "1.5.0",
     "model_name": "HTMLModel",
     "state": {
      "_dom_classes": [],
      "_model_module": "@jupyter-widgets/controls",
      "_model_module_version": "1.5.0",
      "_model_name": "HTMLModel",
      "_view_count": null,
      "_view_module": "@jupyter-widgets/controls",
      "_view_module_version": "1.5.0",
      "_view_name": "HTMLView",
      "description": "",
      "description_tooltip": null,
      "layout": "IPY_MODEL_6b4b6ac5c5f44a8f893318e92e67d3a4",
      "placeholder": "​",
      "style": "IPY_MODEL_d374fbfdd6164e5fa42580db81d981bf",
      "value": "README.md: 100%"
     }
    },
    "abcee38e269a48f0bfb1ed6ecb90d78d": {
     "model_module": "@jupyter-widgets/controls",
     "model_module_version": "1.5.0",
     "model_name": "DescriptionStyleModel",
     "state": {
      "_model_module": "@jupyter-widgets/controls",
      "_model_module_version": "1.5.0",
      "_model_name": "DescriptionStyleModel",
      "_view_count": null,
      "_view_module": "@jupyter-widgets/base",
      "_view_module_version": "1.2.0",
      "_view_name": "StyleView",
      "description_width": ""
     }
    },
    "ac5233d08c604d5cbfcbf8842aa07bed": {
     "model_module": "@jupyter-widgets/base",
     "model_module_version": "1.2.0",
     "model_name": "LayoutModel",
     "state": {
      "_model_module": "@jupyter-widgets/base",
      "_model_module_version": "1.2.0",
      "_model_name": "LayoutModel",
      "_view_count": null,
      "_view_module": "@jupyter-widgets/base",
      "_view_module_version": "1.2.0",
      "_view_name": "LayoutView",
      "align_content": null,
      "align_items": null,
      "align_self": null,
      "border": null,
      "bottom": null,
      "display": null,
      "flex": null,
      "flex_flow": null,
      "grid_area": null,
      "grid_auto_columns": null,
      "grid_auto_flow": null,
      "grid_auto_rows": null,
      "grid_column": null,
      "grid_gap": null,
      "grid_row": null,
      "grid_template_areas": null,
      "grid_template_columns": null,
      "grid_template_rows": null,
      "height": null,
      "justify_content": null,
      "justify_items": null,
      "left": null,
      "margin": null,
      "max_height": null,
      "max_width": null,
      "min_height": null,
      "min_width": null,
      "object_fit": null,
      "object_position": null,
      "order": null,
      "overflow": null,
      "overflow_x": null,
      "overflow_y": null,
      "padding": null,
      "right": null,
      "top": null,
      "visibility": null,
      "width": null
     }
    },
    "acde552d1ae64e7b968dbfb13ff4c84b": {
     "model_module": "@jupyter-widgets/base",
     "model_module_version": "1.2.0",
     "model_name": "LayoutModel",
     "state": {
      "_model_module": "@jupyter-widgets/base",
      "_model_module_version": "1.2.0",
      "_model_name": "LayoutModel",
      "_view_count": null,
      "_view_module": "@jupyter-widgets/base",
      "_view_module_version": "1.2.0",
      "_view_name": "LayoutView",
      "align_content": null,
      "align_items": null,
      "align_self": null,
      "border": null,
      "bottom": null,
      "display": null,
      "flex": null,
      "flex_flow": null,
      "grid_area": null,
      "grid_auto_columns": null,
      "grid_auto_flow": null,
      "grid_auto_rows": null,
      "grid_column": null,
      "grid_gap": null,
      "grid_row": null,
      "grid_template_areas": null,
      "grid_template_columns": null,
      "grid_template_rows": null,
      "height": null,
      "justify_content": null,
      "justify_items": null,
      "left": null,
      "margin": null,
      "max_height": null,
      "max_width": null,
      "min_height": null,
      "min_width": null,
      "object_fit": null,
      "object_position": null,
      "order": null,
      "overflow": null,
      "overflow_x": null,
      "overflow_y": null,
      "padding": null,
      "right": null,
      "top": null,
      "visibility": null,
      "width": null
     }
    },
    "acfee1d91aea4f51bad7f16e00c7865d": {
     "model_module": "@jupyter-widgets/controls",
     "model_module_version": "1.5.0",
     "model_name": "HTMLModel",
     "state": {
      "_dom_classes": [],
      "_model_module": "@jupyter-widgets/controls",
      "_model_module_version": "1.5.0",
      "_model_name": "HTMLModel",
      "_view_count": null,
      "_view_module": "@jupyter-widgets/controls",
      "_view_module_version": "1.5.0",
      "_view_name": "HTMLView",
      "description": "",
      "description_tooltip": null,
      "layout": "IPY_MODEL_acde552d1ae64e7b968dbfb13ff4c84b",
      "placeholder": "​",
      "style": "IPY_MODEL_7ac0633f20f94cfda985b6073c86a7ba",
      "value": " 940M/940M [00:12&lt;00:00, 73.3MB/s]"
     }
    },
    "b174b058b77e46eeb1d6dfd0ae9acf72": {
     "model_module": "@jupyter-widgets/base",
     "model_module_version": "1.2.0",
     "model_name": "LayoutModel",
     "state": {
      "_model_module": "@jupyter-widgets/base",
      "_model_module_version": "1.2.0",
      "_model_name": "LayoutModel",
      "_view_count": null,
      "_view_module": "@jupyter-widgets/base",
      "_view_module_version": "1.2.0",
      "_view_name": "LayoutView",
      "align_content": null,
      "align_items": null,
      "align_self": null,
      "border": null,
      "bottom": null,
      "display": null,
      "flex": null,
      "flex_flow": null,
      "grid_area": null,
      "grid_auto_columns": null,
      "grid_auto_flow": null,
      "grid_auto_rows": null,
      "grid_column": null,
      "grid_gap": null,
      "grid_row": null,
      "grid_template_areas": null,
      "grid_template_columns": null,
      "grid_template_rows": null,
      "height": null,
      "justify_content": null,
      "justify_items": null,
      "left": null,
      "margin": null,
      "max_height": null,
      "max_width": null,
      "min_height": null,
      "min_width": null,
      "object_fit": null,
      "object_position": null,
      "order": null,
      "overflow": null,
      "overflow_x": null,
      "overflow_y": null,
      "padding": null,
      "right": null,
      "top": null,
      "visibility": null,
      "width": null
     }
    },
    "b68ae5c7542548a68b671e0bfd3a96f7": {
     "model_module": "@jupyter-widgets/base",
     "model_module_version": "1.2.0",
     "model_name": "LayoutModel",
     "state": {
      "_model_module": "@jupyter-widgets/base",
      "_model_module_version": "1.2.0",
      "_model_name": "LayoutModel",
      "_view_count": null,
      "_view_module": "@jupyter-widgets/base",
      "_view_module_version": "1.2.0",
      "_view_name": "LayoutView",
      "align_content": null,
      "align_items": null,
      "align_self": null,
      "border": null,
      "bottom": null,
      "display": null,
      "flex": null,
      "flex_flow": null,
      "grid_area": null,
      "grid_auto_columns": null,
      "grid_auto_flow": null,
      "grid_auto_rows": null,
      "grid_column": null,
      "grid_gap": null,
      "grid_row": null,
      "grid_template_areas": null,
      "grid_template_columns": null,
      "grid_template_rows": null,
      "height": null,
      "justify_content": null,
      "justify_items": null,
      "left": null,
      "margin": null,
      "max_height": null,
      "max_width": null,
      "min_height": null,
      "min_width": null,
      "object_fit": null,
      "object_position": null,
      "order": null,
      "overflow": null,
      "overflow_x": null,
      "overflow_y": null,
      "padding": null,
      "right": null,
      "top": null,
      "visibility": null,
      "width": null
     }
    },
    "b77673a10f254d84bda727f1622a0268": {
     "model_module": "@jupyter-widgets/controls",
     "model_module_version": "1.5.0",
     "model_name": "HTMLModel",
     "state": {
      "_dom_classes": [],
      "_model_module": "@jupyter-widgets/controls",
      "_model_module_version": "1.5.0",
      "_model_name": "HTMLModel",
      "_view_count": null,
      "_view_module": "@jupyter-widgets/controls",
      "_view_module_version": "1.5.0",
      "_view_name": "HTMLView",
      "description": "",
      "description_tooltip": null,
      "layout": "IPY_MODEL_cb5ee204b28b459bbac05cfdbb661f01",
      "placeholder": "​",
      "style": "IPY_MODEL_83d7818f33e044aeb9e9c7e281e80d90",
      "value": "arxiv-abstracts.jsonl.gz: 100%"
     }
    },
    "b9e836f2ecc94ac2a45b22e9a6b5d304": {
     "model_module": "@jupyter-widgets/controls",
     "model_module_version": "1.5.0",
     "model_name": "HTMLModel",
     "state": {
      "_dom_classes": [],
      "_model_module": "@jupyter-widgets/controls",
      "_model_module_version": "1.5.0",
      "_model_name": "HTMLModel",
      "_view_count": null,
      "_view_module": "@jupyter-widgets/controls",
      "_view_module_version": "1.5.0",
      "_view_name": "HTMLView",
      "description": "",
      "description_tooltip": null,
      "layout": "IPY_MODEL_884edecca4634a69af73cdd04a9a28fe",
      "placeholder": "​",
      "style": "IPY_MODEL_62472c8c971c44e9a139b79b1d7d36c8",
      "value": " 1999486/1999486 [00:39&lt;00:00, 69569.47 examples/s]"
     }
    },
    "c7e8b9eb13f343d695d43472fae59888": {
     "model_module": "@jupyter-widgets/base",
     "model_module_version": "1.2.0",
     "model_name": "LayoutModel",
     "state": {
      "_model_module": "@jupyter-widgets/base",
      "_model_module_version": "1.2.0",
      "_model_name": "LayoutModel",
      "_view_count": null,
      "_view_module": "@jupyter-widgets/base",
      "_view_module_version": "1.2.0",
      "_view_name": "LayoutView",
      "align_content": null,
      "align_items": null,
      "align_self": null,
      "border": null,
      "bottom": null,
      "display": null,
      "flex": null,
      "flex_flow": null,
      "grid_area": null,
      "grid_auto_columns": null,
      "grid_auto_flow": null,
      "grid_auto_rows": null,
      "grid_column": null,
      "grid_gap": null,
      "grid_row": null,
      "grid_template_areas": null,
      "grid_template_columns": null,
      "grid_template_rows": null,
      "height": null,
      "justify_content": null,
      "justify_items": null,
      "left": null,
      "margin": null,
      "max_height": null,
      "max_width": null,
      "min_height": null,
      "min_width": null,
      "object_fit": null,
      "object_position": null,
      "order": null,
      "overflow": null,
      "overflow_x": null,
      "overflow_y": null,
      "padding": null,
      "right": null,
      "top": null,
      "visibility": null,
      "width": null
     }
    },
    "cb5ee204b28b459bbac05cfdbb661f01": {
     "model_module": "@jupyter-widgets/base",
     "model_module_version": "1.2.0",
     "model_name": "LayoutModel",
     "state": {
      "_model_module": "@jupyter-widgets/base",
      "_model_module_version": "1.2.0",
      "_model_name": "LayoutModel",
      "_view_count": null,
      "_view_module": "@jupyter-widgets/base",
      "_view_module_version": "1.2.0",
      "_view_name": "LayoutView",
      "align_content": null,
      "align_items": null,
      "align_self": null,
      "border": null,
      "bottom": null,
      "display": null,
      "flex": null,
      "flex_flow": null,
      "grid_area": null,
      "grid_auto_columns": null,
      "grid_auto_flow": null,
      "grid_auto_rows": null,
      "grid_column": null,
      "grid_gap": null,
      "grid_row": null,
      "grid_template_areas": null,
      "grid_template_columns": null,
      "grid_template_rows": null,
      "height": null,
      "justify_content": null,
      "justify_items": null,
      "left": null,
      "margin": null,
      "max_height": null,
      "max_width": null,
      "min_height": null,
      "min_width": null,
      "object_fit": null,
      "object_position": null,
      "order": null,
      "overflow": null,
      "overflow_x": null,
      "overflow_y": null,
      "padding": null,
      "right": null,
      "top": null,
      "visibility": null,
      "width": null
     }
    },
    "cde5cfd5fce54cbca649e3efcdfa148a": {
     "model_module": "@jupyter-widgets/controls",
     "model_module_version": "1.5.0",
     "model_name": "HTMLModel",
     "state": {
      "_dom_classes": [],
      "_model_module": "@jupyter-widgets/controls",
      "_model_module_version": "1.5.0",
      "_model_name": "HTMLModel",
      "_view_count": null,
      "_view_module": "@jupyter-widgets/controls",
      "_view_module_version": "1.5.0",
      "_view_name": "HTMLView",
      "description": "",
      "description_tooltip": null,
      "layout": "IPY_MODEL_447fd5654d114b1ca077e697695be087",
      "placeholder": "​",
      "style": "IPY_MODEL_7be7066796b04cbdb795fc6baec8b15a",
      "value": "Generating train split: 100%"
     }
    },
    "d374fbfdd6164e5fa42580db81d981bf": {
     "model_module": "@jupyter-widgets/controls",
     "model_module_version": "1.5.0",
     "model_name": "DescriptionStyleModel",
     "state": {
      "_model_module": "@jupyter-widgets/controls",
      "_model_module_version": "1.5.0",
      "_model_name": "DescriptionStyleModel",
      "_view_count": null,
      "_view_module": "@jupyter-widgets/base",
      "_view_module_version": "1.2.0",
      "_view_name": "StyleView",
      "description_width": ""
     }
    },
    "da0673b502ae4c80abfb15da9da07736": {
     "model_module": "@jupyter-widgets/base",
     "model_module_version": "1.2.0",
     "model_name": "LayoutModel",
     "state": {
      "_model_module": "@jupyter-widgets/base",
      "_model_module_version": "1.2.0",
      "_model_name": "LayoutModel",
      "_view_count": null,
      "_view_module": "@jupyter-widgets/base",
      "_view_module_version": "1.2.0",
      "_view_name": "LayoutView",
      "align_content": null,
      "align_items": null,
      "align_self": null,
      "border": null,
      "bottom": null,
      "display": null,
      "flex": null,
      "flex_flow": null,
      "grid_area": null,
      "grid_auto_columns": null,
      "grid_auto_flow": null,
      "grid_auto_rows": null,
      "grid_column": null,
      "grid_gap": null,
      "grid_row": null,
      "grid_template_areas": null,
      "grid_template_columns": null,
      "grid_template_rows": null,
      "height": null,
      "justify_content": null,
      "justify_items": null,
      "left": null,
      "margin": null,
      "max_height": null,
      "max_width": null,
      "min_height": null,
      "min_width": null,
      "object_fit": null,
      "object_position": null,
      "order": null,
      "overflow": null,
      "overflow_x": null,
      "overflow_y": null,
      "padding": null,
      "right": null,
      "top": null,
      "visibility": null,
      "width": null
     }
    },
    "dc97e6c83e8e4394b9ddcebe90459072": {
     "model_module": "@jupyter-widgets/controls",
     "model_module_version": "1.5.0",
     "model_name": "DescriptionStyleModel",
     "state": {
      "_model_module": "@jupyter-widgets/controls",
      "_model_module_version": "1.5.0",
      "_model_name": "DescriptionStyleModel",
      "_view_count": null,
      "_view_module": "@jupyter-widgets/base",
      "_view_module_version": "1.2.0",
      "_view_name": "StyleView",
      "description_width": ""
     }
    },
    "dec8c3f02a1f40c49ec4a027aac68c02": {
     "model_module": "@jupyter-widgets/base",
     "model_module_version": "1.2.0",
     "model_name": "LayoutModel",
     "state": {
      "_model_module": "@jupyter-widgets/base",
      "_model_module_version": "1.2.0",
      "_model_name": "LayoutModel",
      "_view_count": null,
      "_view_module": "@jupyter-widgets/base",
      "_view_module_version": "1.2.0",
      "_view_name": "LayoutView",
      "align_content": null,
      "align_items": null,
      "align_self": null,
      "border": null,
      "bottom": null,
      "display": null,
      "flex": null,
      "flex_flow": null,
      "grid_area": null,
      "grid_auto_columns": null,
      "grid_auto_flow": null,
      "grid_auto_rows": null,
      "grid_column": null,
      "grid_gap": null,
      "grid_row": null,
      "grid_template_areas": null,
      "grid_template_columns": null,
      "grid_template_rows": null,
      "height": null,
      "justify_content": null,
      "justify_items": null,
      "left": null,
      "margin": null,
      "max_height": null,
      "max_width": null,
      "min_height": null,
      "min_width": null,
      "object_fit": null,
      "object_position": null,
      "order": null,
      "overflow": null,
      "overflow_x": null,
      "overflow_y": null,
      "padding": null,
      "right": null,
      "top": null,
      "visibility": null,
      "width": null
     }
    },
    "f6491a77cb414f15adf30eb2b0b3eae0": {
     "model_module": "@jupyter-widgets/controls",
     "model_module_version": "1.5.0",
     "model_name": "FloatProgressModel",
     "state": {
      "_dom_classes": [],
      "_model_module": "@jupyter-widgets/controls",
      "_model_module_version": "1.5.0",
      "_model_name": "FloatProgressModel",
      "_view_count": null,
      "_view_module": "@jupyter-widgets/controls",
      "_view_module_version": "1.5.0",
      "_view_name": "ProgressView",
      "bar_style": "success",
      "description": "",
      "description_tooltip": null,
      "layout": "IPY_MODEL_89781430eb8f4b34a0883fbaee6dbd61",
      "max": 939914256,
      "min": 0,
      "orientation": "horizontal",
      "style": "IPY_MODEL_79123226615f4a028ab14cf8b2795171",
      "value": 939914256
     }
    },
    "f6594f3166d5444bb6d71c995145c192": {
     "model_module": "@jupyter-widgets/controls",
     "model_module_version": "1.5.0",
     "model_name": "DescriptionStyleModel",
     "state": {
      "_model_module": "@jupyter-widgets/controls",
      "_model_module_version": "1.5.0",
      "_model_name": "DescriptionStyleModel",
      "_view_count": null,
      "_view_module": "@jupyter-widgets/base",
      "_view_module_version": "1.2.0",
      "_view_name": "StyleView",
      "description_width": ""
     }
    },
    "f6c8345a484e4733b4666259b3fb42c8": {
     "model_module": "@jupyter-widgets/base",
     "model_module_version": "1.2.0",
     "model_name": "LayoutModel",
     "state": {
      "_model_module": "@jupyter-widgets/base",
      "_model_module_version": "1.2.0",
      "_model_name": "LayoutModel",
      "_view_count": null,
      "_view_module": "@jupyter-widgets/base",
      "_view_module_version": "1.2.0",
      "_view_name": "LayoutView",
      "align_content": null,
      "align_items": null,
      "align_self": null,
      "border": null,
      "bottom": null,
      "display": null,
      "flex": null,
      "flex_flow": null,
      "grid_area": null,
      "grid_auto_columns": null,
      "grid_auto_flow": null,
      "grid_auto_rows": null,
      "grid_column": null,
      "grid_gap": null,
      "grid_row": null,
      "grid_template_areas": null,
      "grid_template_columns": null,
      "grid_template_rows": null,
      "height": null,
      "justify_content": null,
      "justify_items": null,
      "left": null,
      "margin": null,
      "max_height": null,
      "max_width": null,
      "min_height": null,
      "min_width": null,
      "object_fit": null,
      "object_position": null,
      "order": null,
      "overflow": null,
      "overflow_x": null,
      "overflow_y": null,
      "padding": null,
      "right": null,
      "top": null,
      "visibility": null,
      "width": null
     }
    },
    "fcc360920c024efbba0f13d24b96e6bb": {
     "model_module": "@jupyter-widgets/controls",
     "model_module_version": "1.5.0",
     "model_name": "HTMLModel",
     "state": {
      "_dom_classes": [],
      "_model_module": "@jupyter-widgets/controls",
      "_model_module_version": "1.5.0",
      "_model_name": "HTMLModel",
      "_view_count": null,
      "_view_module": "@jupyter-widgets/controls",
      "_view_module_version": "1.5.0",
      "_view_name": "HTMLView",
      "description": "",
      "description_tooltip": null,
      "layout": "IPY_MODEL_b68ae5c7542548a68b671e0bfd3a96f7",
      "placeholder": "​",
      "style": "IPY_MODEL_60faebd69b424e1c8c3b5e57d7b316d5",
      "value": " 2.47G/2.47G [00:59&lt;00:00, 41.7MB/s]"
     }
    },
    "ff950985c47945128c3be6f9afef93e6": {
     "model_module": "@jupyter-widgets/controls",
     "model_module_version": "1.5.0",
     "model_name": "HBoxModel",
     "state": {
      "_dom_classes": [],
      "_model_module": "@jupyter-widgets/controls",
      "_model_module_version": "1.5.0",
      "_model_name": "HBoxModel",
      "_view_count": null,
      "_view_module": "@jupyter-widgets/controls",
      "_view_module_version": "1.5.0",
      "_view_name": "HBoxView",
      "box_style": "",
      "children": [
       "IPY_MODEL_aaba452d0d714f6d81781922c5d9276b",
       "IPY_MODEL_0dcd1ae7fe364453850af3cad289ff28",
       "IPY_MODEL_46cefd0f195a443a86447d1634bb1093"
      ],
      "layout": "IPY_MODEL_c7e8b9eb13f343d695d43472fae59888"
     }
    }
   }
  }
 },
 "nbformat": 4,
 "nbformat_minor": 4
}
